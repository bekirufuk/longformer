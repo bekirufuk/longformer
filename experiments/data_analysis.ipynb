{
 "cells": [
  {
   "cell_type": "code",
   "execution_count": null,
   "metadata": {},
   "outputs": [],
   "source": [
    "import config #Local config file\n",
    "import os\n",
    "import csv\n",
    "import sys\n",
    "\n",
    "from datasets import load_dataset, load_from_disk\n",
    "from transformers import LongformerTokenizerFast\n",
    "\n",
    "from tqdm.auto import tqdm\n",
    "\n",
    "import pandas as pd\n",
    "import seaborn as sns\n",
    "sns.set(style='darkgrid')"
   ]
  },
  {
   "cell_type": "code",
   "execution_count": null,
   "metadata": {},
   "outputs": [],
   "source": [
    "def batch_tokenizer(batch):\n",
    "    return tokenizer(batch[\"text\"], padding='do_not_pad', truncation=False)"
   ]
  },
  {
   "cell_type": "code",
   "execution_count": 15,
   "metadata": {},
   "outputs": [],
   "source": [
    "# Load the data from csv cache and tokenize without padding or truncation.\n",
    "# Real data is padded and trimmed to model size in application. This just for data analysis.\n",
    "data_files = os.path.join('../data/patentsview', 'patents_2019.csv')\n",
    "dataset = load_dataset('csv', data_files=data_files, cache_dir=os.path.join('../data/patentsview', 'cache'))\n",
    "\n",
    "tokenizer = LongformerTokenizerFast.from_pretrained('allenai/longformer-base-4096')\n",
    "tokenized_data = dataset.map(batch_tokenizer, batched=True, remove_columns=['text'])\n",
    "\n",
    "tokenized_data.save_to_disk(os.path.join('../data/patentsview', \"tokenized/nopad_notrim_patents_2019_tokenized\"))"
   ]
  },
  {
   "cell_type": "code",
   "execution_count": null,
   "metadata": {},
   "outputs": [],
   "source": [
    "# Load the tokenized data for analysis\n",
    "tokenized_data = load_from_disk(os.path.join('../data/patentsview', \"tokenized/nopad_notrim_patents_2019_tokenized\"))"
   ]
  },
  {
   "cell_type": "code",
   "execution_count": 14,
   "metadata": {},
   "outputs": [
    {
     "name": "stderr",
     "output_type": "stream",
     "text": [
      "  1%|          | 2598/310000 [00:53<1:45:25, 48.59it/s]\n"
     ]
    }
   ],
   "source": [
    "progress_bar = tqdm(range(len(tokenized_data['train'])))"
   ]
  },
  {
   "cell_type": "code",
   "execution_count": 15,
   "metadata": {},
   "outputs": [
    {
     "name": "stderr",
     "output_type": "stream",
     "text": [
      "100%|█████████▉| 309998/310000 [1:45:43<00:00, 31.42it/s]  "
     ]
    },
    {
     "data": {
      "text/html": [
       "<div>\n",
       "<style scoped>\n",
       "    .dataframe tbody tr th:only-of-type {\n",
       "        vertical-align: middle;\n",
       "    }\n",
       "\n",
       "    .dataframe tbody tr th {\n",
       "        vertical-align: top;\n",
       "    }\n",
       "\n",
       "    .dataframe thead th {\n",
       "        text-align: right;\n",
       "    }\n",
       "</style>\n",
       "<table border=\"1\" class=\"dataframe\">\n",
       "  <thead>\n",
       "    <tr style=\"text-align: right;\">\n",
       "      <th></th>\n",
       "      <th>num_tokens</th>\n",
       "      <th>label</th>\n",
       "    </tr>\n",
       "  </thead>\n",
       "  <tbody>\n",
       "    <tr>\n",
       "      <th>0</th>\n",
       "      <td>579</td>\n",
       "      <td>A</td>\n",
       "    </tr>\n",
       "    <tr>\n",
       "      <th>1</th>\n",
       "      <td>8170</td>\n",
       "      <td>G</td>\n",
       "    </tr>\n",
       "    <tr>\n",
       "      <th>2</th>\n",
       "      <td>2184</td>\n",
       "      <td>A</td>\n",
       "    </tr>\n",
       "    <tr>\n",
       "      <th>3</th>\n",
       "      <td>3068</td>\n",
       "      <td>A</td>\n",
       "    </tr>\n",
       "    <tr>\n",
       "      <th>4</th>\n",
       "      <td>14379</td>\n",
       "      <td>A</td>\n",
       "    </tr>\n",
       "    <tr>\n",
       "      <th>...</th>\n",
       "      <td>...</td>\n",
       "      <td>...</td>\n",
       "    </tr>\n",
       "    <tr>\n",
       "      <th>309995</th>\n",
       "      <td>18198</td>\n",
       "      <td>A</td>\n",
       "    </tr>\n",
       "    <tr>\n",
       "      <th>309996</th>\n",
       "      <td>3069</td>\n",
       "      <td>G</td>\n",
       "    </tr>\n",
       "    <tr>\n",
       "      <th>309997</th>\n",
       "      <td>7044</td>\n",
       "      <td>G</td>\n",
       "    </tr>\n",
       "    <tr>\n",
       "      <th>309998</th>\n",
       "      <td>31109</td>\n",
       "      <td>G</td>\n",
       "    </tr>\n",
       "    <tr>\n",
       "      <th>309999</th>\n",
       "      <td>7998</td>\n",
       "      <td>A</td>\n",
       "    </tr>\n",
       "  </tbody>\n",
       "</table>\n",
       "<p>310000 rows × 2 columns</p>\n",
       "</div>"
      ],
      "text/plain": [
       "        num_tokens label\n",
       "0              579     A\n",
       "1             8170     G\n",
       "2             2184     A\n",
       "3             3068     A\n",
       "4            14379     A\n",
       "...            ...   ...\n",
       "309995       18198     A\n",
       "309996        3069     G\n",
       "309997        7044     G\n",
       "309998       31109     G\n",
       "309999        7998     A\n",
       "\n",
       "[310000 rows x 2 columns]"
      ]
     },
     "execution_count": 15,
     "metadata": {},
     "output_type": "execute_result"
    }
   ],
   "source": [
    "# Create and save a dataframe only consist of token length and class value for fast and easy analysis.\n",
    "# Indexing is still the same with the original data if a comparison is required.\n",
    "\n",
    "df = pd.DataFrame(columns=['num_tokens','label'])\n",
    "for i, patent in enumerate(tokenized_data['train']):\n",
    "    df.loc[i] = [len(patent['input_ids']), config.id2label[patent['label']]]\n",
    "    progress_bar.update(1)\n",
    "\n",
    "df.to_csv(\"../data/patentsview/meta/patents_2019_num_tokens_and_label.csv\", index=False)\n",
    "df"
   ]
  },
  {
   "cell_type": "code",
   "execution_count": 10,
   "metadata": {},
   "outputs": [
    {
     "data": {
      "text/plain": [
       "0.22326129032258066"
      ]
     },
     "execution_count": 10,
     "metadata": {},
     "output_type": "execute_result"
    }
   ],
   "source": [
    "# Percent of tokens that are not exceeding max length of longformer model.\n",
    "\n",
    "df[df['num_tokens'] < 4096].shape[0] / df.shape[0]"
   ]
  },
  {
   "cell_type": "code",
   "execution_count": 3,
   "metadata": {},
   "outputs": [
    {
     "data": {
      "text/html": [
       "<div>\n",
       "<style scoped>\n",
       "    .dataframe tbody tr th:only-of-type {\n",
       "        vertical-align: middle;\n",
       "    }\n",
       "\n",
       "    .dataframe tbody tr th {\n",
       "        vertical-align: top;\n",
       "    }\n",
       "\n",
       "    .dataframe thead th {\n",
       "        text-align: right;\n",
       "    }\n",
       "</style>\n",
       "<table border=\"1\" class=\"dataframe\">\n",
       "  <thead>\n",
       "    <tr style=\"text-align: right;\">\n",
       "      <th></th>\n",
       "      <th>num_tokens</th>\n",
       "      <th>label</th>\n",
       "    </tr>\n",
       "  </thead>\n",
       "  <tbody>\n",
       "    <tr>\n",
       "      <th>0</th>\n",
       "      <td>579</td>\n",
       "      <td>A</td>\n",
       "    </tr>\n",
       "    <tr>\n",
       "      <th>1</th>\n",
       "      <td>8170</td>\n",
       "      <td>G</td>\n",
       "    </tr>\n",
       "    <tr>\n",
       "      <th>2</th>\n",
       "      <td>2184</td>\n",
       "      <td>A</td>\n",
       "    </tr>\n",
       "    <tr>\n",
       "      <th>3</th>\n",
       "      <td>3068</td>\n",
       "      <td>A</td>\n",
       "    </tr>\n",
       "    <tr>\n",
       "      <th>4</th>\n",
       "      <td>14379</td>\n",
       "      <td>A</td>\n",
       "    </tr>\n",
       "    <tr>\n",
       "      <th>...</th>\n",
       "      <td>...</td>\n",
       "      <td>...</td>\n",
       "    </tr>\n",
       "    <tr>\n",
       "      <th>309995</th>\n",
       "      <td>18198</td>\n",
       "      <td>A</td>\n",
       "    </tr>\n",
       "    <tr>\n",
       "      <th>309996</th>\n",
       "      <td>3069</td>\n",
       "      <td>G</td>\n",
       "    </tr>\n",
       "    <tr>\n",
       "      <th>309997</th>\n",
       "      <td>7044</td>\n",
       "      <td>G</td>\n",
       "    </tr>\n",
       "    <tr>\n",
       "      <th>309998</th>\n",
       "      <td>31109</td>\n",
       "      <td>G</td>\n",
       "    </tr>\n",
       "    <tr>\n",
       "      <th>309999</th>\n",
       "      <td>7998</td>\n",
       "      <td>A</td>\n",
       "    </tr>\n",
       "  </tbody>\n",
       "</table>\n",
       "<p>310000 rows × 2 columns</p>\n",
       "</div>"
      ],
      "text/plain": [
       "        num_tokens label\n",
       "0              579     A\n",
       "1             8170     G\n",
       "2             2184     A\n",
       "3             3068     A\n",
       "4            14379     A\n",
       "...            ...   ...\n",
       "309995       18198     A\n",
       "309996        3069     G\n",
       "309997        7044     G\n",
       "309998       31109     G\n",
       "309999        7998     A\n",
       "\n",
       "[310000 rows x 2 columns]"
      ]
     },
     "execution_count": 3,
     "metadata": {},
     "output_type": "execute_result"
    }
   ],
   "source": [
    "# Load the data to work on.\n",
    "\n",
    "df= pd.read_csv(\"../data/patentsview/meta/patents_2019_num_tokens_and_label.csv\")\n",
    "df"
   ]
  },
  {
   "cell_type": "code",
   "execution_count": 46,
   "metadata": {},
   "outputs": [
    {
     "name": "stdout",
     "output_type": "stream",
     "text": [
      "          num_tokens\n",
      "count  310000.000000\n",
      "mean    11487.254961\n",
      "std     17196.713500\n",
      "min        34.000000\n",
      "25%      4425.750000\n",
      "50%      7654.000000\n",
      "75%     12911.000000\n",
      "max    886819.000000\n"
     ]
    }
   ],
   "source": [
    "# Quick first check. We see a very high std and max. Other info seems reasonable. 34 token min is suspicious.\n",
    "\n",
    "print(df.describe())"
   ]
  },
  {
   "cell_type": "code",
   "execution_count": 17,
   "metadata": {},
   "outputs": [
    {
     "name": "stdout",
     "output_type": "stream",
     "text": [
      "<class 'pandas.core.frame.DataFrame'>\n",
      "RangeIndex: 310000 entries, 0 to 309999\n",
      "Data columns (total 2 columns):\n",
      " #   Column      Non-Null Count   Dtype \n",
      "---  ------      --------------   ----- \n",
      " 0   num_tokens  310000 non-null  int64 \n",
      " 1   label       310000 non-null  object\n",
      "dtypes: int64(1), object(1)\n",
      "memory usage: 4.7+ MB\n"
     ]
    },
    {
     "name": "stderr",
     "output_type": "stream",
     "text": [
      "100%|██████████| 310000/310000 [1:45:57<00:00, 31.42it/s]"
     ]
    }
   ],
   "source": [
    "# Another quick look\n",
    "\n",
    "df.info(verbose=True)"
   ]
  },
  {
   "cell_type": "code",
   "execution_count": 5,
   "metadata": {},
   "outputs": [
    {
     "data": {
      "text/plain": [
       "<AxesSubplot:xlabel='num_tokens', ylabel='Count'>"
      ]
     },
     "execution_count": 5,
     "metadata": {},
     "output_type": "execute_result"
    },
    {
     "data": {
      "image/png": "[encoded data removed]",
      "text/plain": [
       "<Figure size 432x288 with 1 Axes>"
      ]
     },
     "metadata": {},
     "output_type": "display_data"
    }
   ],
   "source": [
    "# Token length distribution. Looks too unbanaced. There must be outliers.\n",
    "\n",
    "sns.histplot(data=df, x='num_tokens', binwidth=100, kde=True)"
   ]
  },
  {
   "cell_type": "code",
   "execution_count": 19,
   "metadata": {},
   "outputs": [
    {
     "data": {
      "text/plain": [
       "<AxesSubplot:xlabel='num_tokens', ylabel='Count'>"
      ]
     },
     "execution_count": 19,
     "metadata": {},
     "output_type": "execute_result"
    },
    {
     "data": {
      "image/png": "[encoded data removed]",
      "text/plain": [
       "<Figure size 432x288 with 1 Axes>"
      ]
     },
     "metadata": {},
     "output_type": "display_data"
    }
   ],
   "source": [
    "# Token length distribution of first shortest 300.000 patent. (longest 10.000 patent trimmed)\n",
    "\n",
    "# A well defined outlier clean method should be used in the future.\n",
    "# A more sensible chart we see.\n",
    "# For the min token length 34, it is not a problem for now because it is not a dominant force statistically.\n",
    "\n",
    "sns.histplot(data=df.sort_values(by='num_tokens')[:300000], x='num_tokens', binwidth=1000, kde=True)"
   ]
  },
  {
   "cell_type": "code",
   "execution_count": 5,
   "metadata": {},
   "outputs": [
    {
     "data": {
      "text/html": [
       "<div>\n",
       "<style scoped>\n",
       "    .dataframe tbody tr th:only-of-type {\n",
       "        vertical-align: middle;\n",
       "    }\n",
       "\n",
       "    .dataframe tbody tr th {\n",
       "        vertical-align: top;\n",
       "    }\n",
       "\n",
       "    .dataframe thead th {\n",
       "        text-align: right;\n",
       "    }\n",
       "</style>\n",
       "<table border=\"1\" class=\"dataframe\">\n",
       "  <thead>\n",
       "    <tr style=\"text-align: right;\">\n",
       "      <th></th>\n",
       "      <th>num_tokens</th>\n",
       "    </tr>\n",
       "  </thead>\n",
       "  <tbody>\n",
       "    <tr>\n",
       "      <th>count</th>\n",
       "      <td>300000.000000</td>\n",
       "    </tr>\n",
       "    <tr>\n",
       "      <th>mean</th>\n",
       "      <td>9344.468727</td>\n",
       "    </tr>\n",
       "    <tr>\n",
       "      <th>std</th>\n",
       "      <td>7066.145166</td>\n",
       "    </tr>\n",
       "    <tr>\n",
       "      <th>min</th>\n",
       "      <td>34.000000</td>\n",
       "    </tr>\n",
       "    <tr>\n",
       "      <th>25%</th>\n",
       "      <td>4324.000000</td>\n",
       "    </tr>\n",
       "    <tr>\n",
       "      <th>50%</th>\n",
       "      <td>7414.000000</td>\n",
       "    </tr>\n",
       "    <tr>\n",
       "      <th>75%</th>\n",
       "      <td>12168.000000</td>\n",
       "    </tr>\n",
       "    <tr>\n",
       "      <th>max</th>\n",
       "      <td>39017.000000</td>\n",
       "    </tr>\n",
       "  </tbody>\n",
       "</table>\n",
       "</div>"
      ],
      "text/plain": [
       "          num_tokens\n",
       "count  300000.000000\n",
       "mean     9344.468727\n",
       "std      7066.145166\n",
       "min        34.000000\n",
       "25%      4324.000000\n",
       "50%      7414.000000\n",
       "75%     12168.000000\n",
       "max     39017.000000"
      ]
     },
     "execution_count": 5,
     "metadata": {},
     "output_type": "execute_result"
    }
   ],
   "source": [
    "# Quick look to the shortest 300.000 data. We see a more reasonable max and std values.\n",
    "\n",
    "df.sort_values(by='num_tokens')[:300000].describe()"
   ]
  },
  {
   "cell_type": "code",
   "execution_count": 30,
   "metadata": {},
   "outputs": [
    {
     "data": {
      "text/plain": [
       "<seaborn.axisgrid.FacetGrid at 0x7fc99cce7290>"
      ]
     },
     "execution_count": 30,
     "metadata": {},
     "output_type": "execute_result"
    },
    {
     "data": {
      "image/png": "[encoded data removed]",
      "text/plain": [
       "<Figure size 360x360 with 1 Axes>"
      ]
     },
     "metadata": {},
     "output_type": "display_data"
    }
   ],
   "source": [
    "# Label count distribution. How many patents are there for each label.\n",
    "\n",
    "# D is too few.\n",
    "# G and H is dominating.\n",
    "\n",
    "sns.catplot(data=df, x=\"label\", kind=\"count\", order=config.labels_list)"
   ]
  },
  {
   "cell_type": "code",
   "execution_count": null,
   "metadata": {},
   "outputs": [],
   "source": [
    "# Lets remember the meanings of the labels for more context.\n",
    "\n",
    "# Domination of G and H makes more sense now.\n",
    "# It must be a tough year for texlie industry.\n",
    "\n",
    "# A - Human Necessities\n",
    "# B - Performing Operations; Transporting\n",
    "# C - Chemistry; Metallurgy\n",
    "# D - Textiles; Paper\n",
    "# E - Fixed Constructions\n",
    "# F - Mechanical Engineering; Lighting; Heating; Weapons; Blasting\n",
    "# G - Physics\n",
    "# H - Electricity"
   ]
  },
  {
   "cell_type": "code",
   "execution_count": 7,
   "metadata": {},
   "outputs": [
    {
     "data": {
      "text/plain": [
       "<seaborn.axisgrid.FacetGrid at 0x7f0694693950>"
      ]
     },
     "execution_count": 7,
     "metadata": {},
     "output_type": "execute_result"
    },
    {
     "data": {
      "image/png": "[encoded data removed]",
      "text/plain": [
       "<Figure size 360x360 with 1 Axes>"
      ]
     },
     "metadata": {},
     "output_type": "display_data"
    }
   ],
   "source": [
    "# Let's see the sorted version for fun.\n",
    "\n",
    "sns.catplot(data=df, x=\"label\", kind=\"count\", order=df['label'].value_counts().index)"
   ]
  },
  {
   "cell_type": "code",
   "execution_count": 9,
   "metadata": {},
   "outputs": [
    {
     "name": "stdout",
     "output_type": "stream",
     "text": [
      "Mean token length of label A is 14558\n",
      "Mean token length of label B is 7624\n",
      "Mean token length of label C is 23219\n",
      "Mean token length of label D is 8826\n",
      "Mean token length of label E is 6627\n",
      "Mean token length of label F is 6509\n",
      "Mean token length of label G is 11318\n",
      "Mean token length of label H is 10806\n"
     ]
    }
   ],
   "source": [
    "# Mean token lengths of patents grouped by labels.\n",
    "\n",
    "mean_list = []\n",
    "for label in config.labels_list:\n",
    "    mean = round(df[df['label']== label]['num_tokens'].mean()) \n",
    "    mean_list.append(mean)\n",
    "    print(\"Mean token length of label {} is {}\".format(label, mean))"
   ]
  },
  {
   "cell_type": "code",
   "execution_count": 10,
   "metadata": {},
   "outputs": [
    {
     "data": {
      "text/plain": [
       "<seaborn.axisgrid.FacetGrid at 0x7f0695a8c950>"
      ]
     },
     "execution_count": 10,
     "metadata": {},
     "output_type": "execute_result"
    },
    {
     "data": {
      "image/png": "[encoded data removed]",
      "text/plain": [
       "<Figure size 360x360 with 1 Axes>"
      ]
     },
     "metadata": {},
     "output_type": "display_data"
    }
   ],
   "source": [
    "# The table of mean token lengths of patents grouped by labels.\n",
    "\n",
    "# C contains the outliers, apart from that, seem like lengths of the patents distributed in a balanced way along the labels.\n",
    "\n",
    "mean_table = pd.DataFrame(data={\"label\":config.labels_list, \"mean_len\":mean_list})\n",
    "sns.catplot(data=mean_table, x='label', y='mean_len', kind='bar')"
   ]
  },
  {
   "cell_type": "code",
   "execution_count": 20,
   "metadata": {},
   "outputs": [
    {
     "data": {
      "text/plain": [
       "<seaborn.axisgrid.FacetGrid at 0x7f069193df90>"
      ]
     },
     "execution_count": 20,
     "metadata": {},
     "output_type": "execute_result"
    },
    {
     "data": {
      "image/png": "[encoded data removed]",
      "text/plain": [
       "<Figure size 360x360 with 1 Axes>"
      ]
     },
     "metadata": {},
     "output_type": "display_data"
    }
   ],
   "source": [
    "# And the sorted\n",
    "\n",
    "mean_table.sort_values(by='mean_len', inplace=True, ascending=False)\n",
    "sns.catplot(data=mean_table, x='label', y='mean_len', kind='bar')"
   ]
  },
  {
   "cell_type": "code",
   "execution_count": 45,
   "metadata": {},
   "outputs": [
    {
     "name": "stdout",
     "output_type": "stream",
     "text": [
      "Label: A\n",
      "          num_tokens\n",
      "count   40380.000000\n",
      "mean    14557.523081\n",
      "std     24551.538353\n",
      "min        34.000000\n",
      "25%      4076.000000\n",
      "50%      7913.500000\n",
      "75%     15852.750000\n",
      "max    880936.000000\n",
      "-----------------------------------\n",
      "Label: B\n",
      "          num_tokens\n",
      "count   36610.000000\n",
      "mean     7623.975389\n",
      "std      8563.672966\n",
      "min        54.000000\n",
      "25%      3035.250000\n",
      "50%      5369.500000\n",
      "75%      9251.750000\n",
      "max    320991.000000\n",
      "-----------------------------------\n",
      "Label: C\n",
      "          num_tokens\n",
      "count   21195.000000\n",
      "mean    23218.574617\n",
      "std     39272.973034\n",
      "min        34.000000\n",
      "25%      5864.000000\n",
      "50%     11758.000000\n",
      "75%     24312.500000\n",
      "max    886819.000000\n",
      "-----------------------------------\n",
      "Label: D\n",
      "          num_tokens\n",
      "count    1406.000000\n",
      "mean     8826.067568\n",
      "std     11321.460105\n",
      "min       246.000000\n",
      "25%      3369.000000\n",
      "50%      5893.000000\n",
      "75%     10347.250000\n",
      "max    148121.000000\n",
      "-----------------------------------\n",
      "Label: E\n",
      "          num_tokens\n",
      "count    7286.000000\n",
      "mean     6626.710541\n",
      "std      6087.702585\n",
      "min       109.000000\n",
      "25%      2880.000000\n",
      "50%      4898.000000\n",
      "75%      8379.250000\n",
      "max    103640.000000\n",
      "-----------------------------------\n",
      "Label: F\n",
      "          num_tokens\n",
      "count   23301.000000\n",
      "mean     6509.035535\n",
      "std      7418.024500\n",
      "min        45.000000\n",
      "25%      2747.000000\n",
      "50%      4592.000000\n",
      "75%      7839.000000\n",
      "max    333356.000000\n",
      "-----------------------------------\n",
      "Label: G\n",
      "          num_tokens\n",
      "count   90846.000000\n",
      "mean    11317.502444\n",
      "std     11757.735293\n",
      "min        41.000000\n",
      "25%      5504.000000\n",
      "50%      8598.000000\n",
      "75%     13414.000000\n",
      "max    580883.000000\n",
      "-----------------------------------\n",
      "Label: H\n",
      "          num_tokens\n",
      "count   88976.000000\n",
      "mean    10806.018477\n",
      "std     12098.382178\n",
      "min        51.000000\n",
      "25%      5038.000000\n",
      "50%      8092.000000\n",
      "75%     12872.250000\n",
      "max    757209.000000\n",
      "-----------------------------------\n"
     ]
    }
   ],
   "source": [
    "# Fianlly see the describe values for each label separately.\n",
    "for label in config.labels_list:\n",
    "    print(\"Label: {}\".format(label))\n",
    "    print(df[df['label']== label].describe())\n",
    "    print(\"-----------------------------------\")"
   ]
  }
 ],
 "metadata": {
  "interpreter": {
   "hash": "d423be8e5dd5e2441a242ca4cbbadda2df0f98772995e93bb940e45ce53c6d2c"
  },
  "kernelspec": {
   "display_name": "Python 3.7.11 ('data_manager')",
   "language": "python",
   "name": "python3"
  },
  "language_info": {
   "codemirror_mode": {
    "name": "ipython",
    "version": 3
   },
   "file_extension": ".py",
   "mimetype": "text/x-python",
   "name": "python",
   "nbconvert_exporter": "python",
   "pygments_lexer": "ipython3",
   "version": "3.7.11"
  },
  "orig_nbformat": 4
 },
 "nbformat": 4,
 "nbformat_minor": 2
}

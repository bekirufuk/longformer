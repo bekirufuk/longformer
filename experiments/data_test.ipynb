{
 "cells": [
  {
   "cell_type": "code",
   "execution_count": 1,
   "metadata": {},
   "outputs": [],
   "source": [
    "import pandas as pd\n",
    "import tqdm"
   ]
  },
  {
   "cell_type": "code",
   "execution_count": null,
   "metadata": {},
   "outputs": [],
   "source": [
    "root_dir = '../../data/longformer/patentsview/'"
   ]
  },
  {
   "cell_type": "code",
   "execution_count": 2,
   "metadata": {},
   "outputs": [],
   "source": [
    "patents = pd.read_csv(root_dir+'detail_desc_text_2019.tsv',sep=\"\\t\", nrows=1000, usecols=['patent_id', 'text', 'length'], dtype={'patent_id':object, 'text':object, 'length':int })"
   ]
  },
  {
   "cell_type": "code",
   "execution_count": 3,
   "metadata": {},
   "outputs": [],
   "source": [
    "ipcr = pd.read_csv(root_dir+'ipcr.tsv',sep=\"\\t\", usecols=['patent_id','section'], dtype={'patent_id':object,'section':object})"
   ]
  },
  {
   "cell_type": "code",
   "execution_count": 4,
   "metadata": {},
   "outputs": [],
   "source": [
    "unique_ipcr = ipcr.drop_duplicates(subset=['patent_id'])"
   ]
  },
  {
   "cell_type": "code",
   "execution_count": 5,
   "metadata": {},
   "outputs": [],
   "source": [
    "dm = patents.merge(unique_ipcr, how='left', on='patent_id')"
   ]
  },
  {
   "cell_type": "code",
   "execution_count": 12,
   "metadata": {},
   "outputs": [],
   "source": [
    "dm.to_csv(root_dir+'example_data.csv', sep=\",\", index=False)"
   ]
  },
  {
   "cell_type": "code",
   "execution_count": 13,
   "metadata": {},
   "outputs": [
    {
     "data": {
      "text/html": [
       "<div>\n",
       "<style scoped>\n",
       "    .dataframe tbody tr th:only-of-type {\n",
       "        vertical-align: middle;\n",
       "    }\n",
       "\n",
       "    .dataframe tbody tr th {\n",
       "        vertical-align: top;\n",
       "    }\n",
       "\n",
       "    .dataframe thead th {\n",
       "        text-align: right;\n",
       "    }\n",
       "</style>\n",
       "<table border=\"1\" class=\"dataframe\">\n",
       "  <thead>\n",
       "    <tr style=\"text-align: right;\">\n",
       "      <th></th>\n",
       "      <th>patent_id</th>\n",
       "      <th>text</th>\n",
       "      <th>length</th>\n",
       "      <th>section</th>\n",
       "    </tr>\n",
       "  </thead>\n",
       "  <tbody>\n",
       "    <tr>\n",
       "      <th>0</th>\n",
       "      <td>10165721</td>\n",
       "      <td>DESCRIPTION OF THE PREFERRED EMBODIMENTS\\n\\nWi...</td>\n",
       "      <td>2626</td>\n",
       "      <td>A</td>\n",
       "    </tr>\n",
       "    <tr>\n",
       "      <th>1</th>\n",
       "      <td>10165722</td>\n",
       "      <td>DETAILED DESCRIPTION\\n\\nHuman beings have cert...</td>\n",
       "      <td>38836</td>\n",
       "      <td>G</td>\n",
       "    </tr>\n",
       "    <tr>\n",
       "      <th>2</th>\n",
       "      <td>10165723</td>\n",
       "      <td>DETAILED DESCRIPTION\\n\\nReferring toFIGS. 1, 1...</td>\n",
       "      <td>10803</td>\n",
       "      <td>A</td>\n",
       "    </tr>\n",
       "    <tr>\n",
       "      <th>3</th>\n",
       "      <td>10165724</td>\n",
       "      <td>DETAILED DESCRIPTION OF THE PREFERRED EMBODIME...</td>\n",
       "      <td>13949</td>\n",
       "      <td>A</td>\n",
       "    </tr>\n",
       "    <tr>\n",
       "      <th>4</th>\n",
       "      <td>10165725</td>\n",
       "      <td>DETAILED DESCRIPTION\\n\\nBefore describing the ...</td>\n",
       "      <td>71115</td>\n",
       "      <td>A</td>\n",
       "    </tr>\n",
       "    <tr>\n",
       "      <th>...</th>\n",
       "      <td>...</td>\n",
       "      <td>...</td>\n",
       "      <td>...</td>\n",
       "      <td>...</td>\n",
       "    </tr>\n",
       "    <tr>\n",
       "      <th>995</th>\n",
       "      <td>10166719</td>\n",
       "      <td>DETAILED DESCRIPTION OF DISCLOSED EMBODIMENTS\\...</td>\n",
       "      <td>19342</td>\n",
       "      <td>B</td>\n",
       "    </tr>\n",
       "    <tr>\n",
       "      <th>996</th>\n",
       "      <td>10166720</td>\n",
       "      <td>DETAILED DESCRIPTION OF EMBODIMENTS\\n\\nHereina...</td>\n",
       "      <td>11862</td>\n",
       "      <td>C</td>\n",
       "    </tr>\n",
       "    <tr>\n",
       "      <th>997</th>\n",
       "      <td>10166722</td>\n",
       "      <td>DETAILED DESCRIPTION\\n\\nWith reference toFIG. ...</td>\n",
       "      <td>8128</td>\n",
       "      <td>B</td>\n",
       "    </tr>\n",
       "    <tr>\n",
       "      <th>998</th>\n",
       "      <td>10166723</td>\n",
       "      <td>REFERENCE SIGNS\\n\\n1—secondary lithium battery...</td>\n",
       "      <td>16312</td>\n",
       "      <td>B</td>\n",
       "    </tr>\n",
       "    <tr>\n",
       "      <th>999</th>\n",
       "      <td>10166724</td>\n",
       "      <td>DETAILED DESCRIPTION\\n\\nFIG. 1shows, in a sche...</td>\n",
       "      <td>5812</td>\n",
       "      <td>B</td>\n",
       "    </tr>\n",
       "  </tbody>\n",
       "</table>\n",
       "<p>1000 rows × 4 columns</p>\n",
       "</div>"
      ],
      "text/plain": [
       "     patent_id                                               text  length  \\\n",
       "0     10165721  DESCRIPTION OF THE PREFERRED EMBODIMENTS\\n\\nWi...    2626   \n",
       "1     10165722  DETAILED DESCRIPTION\\n\\nHuman beings have cert...   38836   \n",
       "2     10165723  DETAILED DESCRIPTION\\n\\nReferring toFIGS. 1, 1...   10803   \n",
       "3     10165724  DETAILED DESCRIPTION OF THE PREFERRED EMBODIME...   13949   \n",
       "4     10165725  DETAILED DESCRIPTION\\n\\nBefore describing the ...   71115   \n",
       "..         ...                                                ...     ...   \n",
       "995   10166719  DETAILED DESCRIPTION OF DISCLOSED EMBODIMENTS\\...   19342   \n",
       "996   10166720  DETAILED DESCRIPTION OF EMBODIMENTS\\n\\nHereina...   11862   \n",
       "997   10166722  DETAILED DESCRIPTION\\n\\nWith reference toFIG. ...    8128   \n",
       "998   10166723  REFERENCE SIGNS\\n\\n1—secondary lithium battery...   16312   \n",
       "999   10166724  DETAILED DESCRIPTION\\n\\nFIG. 1shows, in a sche...    5812   \n",
       "\n",
       "    section  \n",
       "0         A  \n",
       "1         G  \n",
       "2         A  \n",
       "3         A  \n",
       "4         A  \n",
       "..      ...  \n",
       "995       B  \n",
       "996       C  \n",
       "997       B  \n",
       "998       B  \n",
       "999       B  \n",
       "\n",
       "[1000 rows x 4 columns]"
      ]
     },
     "execution_count": 13,
     "metadata": {},
     "output_type": "execute_result"
    }
   ],
   "source": [
    "dmr = pd.read_csv(root_dir+'example_data.csv')\n",
    "dmr"
   ]
  },
  {
   "cell_type": "code",
   "execution_count": 14,
   "metadata": {},
   "outputs": [
    {
     "data": {
      "text/plain": [
       "'DESCRIPTION OF THE PREFERRED EMBODIMENTS\\n\\nWith reference to the number references of the above mentioned figures, the disc holder construction according to the present invention, which has been generally indicated by the reference number1, comprises a disc element2fixed to a rotary hub3which is supported by a disc holder spring4in turn affixed to a longitudinal bar5of a disc harrow, not shown in the figures.\\n\\nThe rotary hub3is affixed to the disc holder spring4through a pivot pin and a corresponding nut6.\\n\\nAccording to the present invention, the disc holder construction1comprises a scraper assembly7for removing soil adhering to the disc element2.\\n\\nSaid scraper assembly7is affixed to a disc scraper arm8which, in turn, is affixed to the disc holder spring4by clamping bolts9.\\n\\nAccording to the present invention, said disc scraper arm8is affixed to the disc holder spring4but not to the harrow framework, and supports the scraper assembly7which is driven in a timed manner with the disc element2.\\n\\nSaid disc holder spring4, to which said disc scraper arm8is clamped, has been so configured and extended, in comparison with a conventional disc holder spring, to form the disc scraper arm attachment part and related clamping holes.\\n\\nThe construction according to the present invention, with a like or corresponding shape but with multiple size patterns, may be applied to all the systems formed by a suitably arranged disc holder spring, a hub and a disc element.\\n\\nAdvantageously, the disc scraper arm8comprises a recess10, which is made by a hot molding operation, encompassing the disc holder spring4to prevent said disc scraper arm from being laterally offset.\\n\\nAdvantageously, said disc scraper arm8has a curved configuration to be properly housed in a concealed portion of the construction, without hindering the soil processing operations.\\n\\nPreferably, said disc scraper arm8is made of a spring steel material, which has been subjected to a thermal processing for allowing the disc scraper arm to operate as a spring element proper, designed for supporting impacts and flexures from large soil clods or stones.\\n\\nIt has been found that the invention fully achieves the intended aim and objects.\\n\\nIn fact, the invention has provided a disc holder construction solving the problem of supporting the scraper assembly for removing adhering soil from each harrow disc in an individual manner, while said disc holder spring may be freely deflected to fit the soil or ground depressions.\\n\\nIn practicing the invention, the used materials, as well as the contingent size and shapes, can be any, according to requirements.\\n\\n'"
      ]
     },
     "execution_count": 14,
     "metadata": {},
     "output_type": "execute_result"
    }
   ],
   "source": [
    "dmr.loc[0,'text']"
   ]
  }
 ],
 "metadata": {
  "interpreter": {
   "hash": "6616cf3ce8dec87f4b53baaaa6f33ad0a77c13facd191ddc67e2ba12c2dd4508"
  },
  "kernelspec": {
   "display_name": "Python 3.7.11 ('longformer')",
   "language": "python",
   "name": "python3"
  },
  "language_info": {
   "codemirror_mode": {
    "name": "ipython",
    "version": 3
   },
   "file_extension": ".py",
   "mimetype": "text/x-python",
   "name": "python",
   "nbconvert_exporter": "python",
   "pygments_lexer": "ipython3",
   "version": "3.7.11"
  },
  "orig_nbformat": 4
 },
 "nbformat": 4,
 "nbformat_minor": 2
}

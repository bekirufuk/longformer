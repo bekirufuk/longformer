{
 "cells": [
  {
   "cell_type": "code",
   "execution_count": 1,
   "metadata": {},
   "outputs": [],
   "source": [
    "import pandas as pd\n",
    "import tqdm\n",
    "import json"
   ]
  },
  {
   "cell_type": "code",
   "execution_count": 4,
   "metadata": {},
   "outputs": [],
   "source": [
    "root_dir = '../../data/longformer/patentsview/'"
   ]
  },
  {
   "cell_type": "code",
   "execution_count": 5,
   "metadata": {},
   "outputs": [],
   "source": [
    "# Load the data. Only 1000 examples in this case. Only patent description text, along with patent_id and length info.\n",
    "patents = pd.read_csv(root_dir+'detail_desc_text_2019.tsv',sep=\"\\t\", nrows=1000, usecols=['patent_id', 'text', 'length'], dtype={'patent_id':object, 'text':object, 'length':int })"
   ]
  },
  {
   "cell_type": "code",
   "execution_count": 6,
   "metadata": {},
   "outputs": [],
   "source": [
    "# Icpr file holds detailed class information about the patents. We will only investigate section column which consist of 8 distinct classes with single class for every patent.\n",
    "ipcr = pd.read_csv(root_dir+'ipcr.tsv',sep=\"\\t\", usecols=['patent_id','section'], dtype={'patent_id':object,'section':object})"
   ]
  },
  {
   "cell_type": "code",
   "execution_count": 7,
   "metadata": {},
   "outputs": [],
   "source": [
    "# Drop duplicates because this table might have duplicating patent_id sharing the same section with different class details.\n",
    "unique_ipcr = ipcr.drop_duplicates(subset=['patent_id'])"
   ]
  },
  {
   "cell_type": "code",
   "execution_count": 8,
   "metadata": {},
   "outputs": [],
   "source": [
    "# Merge two dataframes so patent description and its section information is united.\n",
    "data = patents.merge(unique_ipcr, how='left', on='patent_id')"
   ]
  },
  {
   "cell_type": "code",
   "execution_count": null,
   "metadata": {},
   "outputs": [],
   "source": [
    "# Construct an integer representation for every letter section for transformer will require an integer value for label. This json file can be used to convert id2text or text2id.\n",
    "sections = data['section'].unique()\n",
    "sections.sort()\n",
    "labels = {}\n",
    "i=0\n",
    "for section in sections:\n",
    "    labels[section] = i\n",
    "    i+=1\n",
    "labels = json.dumps(labels)\n",
    "\n",
    "with open(root_dir+\"labels.json\", \"w\") as f:\n",
    "    f.write(labels)\n",
    "\n",
    "labels = json.loads(labels)"
   ]
  },
  {
   "cell_type": "code",
   "execution_count": null,
   "metadata": {},
   "outputs": [],
   "source": [
    "# Replace the string values with integer representations.\n",
    "data.replace({'section':labels}, inplace=True)"
   ]
  },
  {
   "cell_type": "code",
   "execution_count": 9,
   "metadata": {},
   "outputs": [],
   "source": [
    "# Rename columns and save data as two partitions.\n",
    "data.columns=[\"patent_id\", \"text\", \"legth\", \"label\"]\n",
    "data.loc[:799].to_csv(root_dir+'example/letter_train_example.csv', sep=\",\", index=False)\n",
    "data.loc[800:].to_csv(root_dir+'example/letter_test_example.csv', sep=\",\", index=False)"
   ]
  }
 ],
 "metadata": {
  "interpreter": {
   "hash": "6616cf3ce8dec87f4b53baaaa6f33ad0a77c13facd191ddc67e2ba12c2dd4508"
  },
  "kernelspec": {
   "display_name": "Python 3.7.11 ('longformer')",
   "language": "python",
   "name": "python3"
  },
  "language_info": {
   "codemirror_mode": {
    "name": "ipython",
    "version": 3
   },
   "file_extension": ".py",
   "mimetype": "text/x-python",
   "name": "python",
   "nbconvert_exporter": "python",
   "pygments_lexer": "ipython3",
   "version": "3.7.11"
  },
  "orig_nbformat": 4
 },
 "nbformat": 4,
 "nbformat_minor": 2
}

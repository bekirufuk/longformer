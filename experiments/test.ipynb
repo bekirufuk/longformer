{
 "cells": [
  {
   "cell_type": "code",
   "execution_count": 127,
   "metadata": {},
   "outputs": [],
   "source": [
    "import pandas as pd\n",
    "import config\n",
    "import os\n",
    "import csv\n",
    "import sys"
   ]
  },
  {
   "cell_type": "code",
   "execution_count": 29,
   "metadata": {},
   "outputs": [
    {
     "data": {
      "text/plain": [
       "131072"
      ]
     },
     "execution_count": 29,
     "metadata": {},
     "output_type": "execute_result"
    }
   ],
   "source": [
    "csv.field_size_limit(sys.maxsize)"
   ]
  },
  {
   "cell_type": "code",
   "execution_count": 130,
   "metadata": {},
   "outputs": [
    {
     "data": {
      "text/plain": [
       "['patents_2019_chunk_000013.csv',\n",
       " 'patents_2019_chunk_000000.csv',\n",
       " 'patents_2019_chunk_000001.csv',\n",
       " 'patents_2019_chunk_000002.csv',\n",
       " 'patents_2019_chunk_000003.csv',\n",
       " 'patents_2019_chunk_000004.csv',\n",
       " 'patents_2019_chunk_000005.csv',\n",
       " 'patents_2019_chunk_000006.csv',\n",
       " 'patents_2019_chunk_000007.csv',\n",
       " 'patents_2019_chunk_000008.csv',\n",
       " 'patents_2019_chunk_000009.csv',\n",
       " 'patents_2019_chunk_000010.csv',\n",
       " 'patents_2019_chunk_000011.csv',\n",
       " 'patents_2019_chunk_000012.csv',\n",
       " 'patents_2019_chunk_000014.csv',\n",
       " 'patents_2019_chunk_000015.csv',\n",
       " 'patents_2019_chunk_000016.csv',\n",
       " 'patents_2019_chunk_000017.csv',\n",
       " 'patents_2019_chunk_000018.csv',\n",
       " 'patents_2019_chunk_000019.csv',\n",
       " 'patents_2019_chunk_000020.csv',\n",
       " 'patents_2019_chunk_000021.csv',\n",
       " 'patents_2019_chunk_000022.csv',\n",
       " 'patents_2019_chunk_000023.csv',\n",
       " 'patents_2019_chunk_000024.csv',\n",
       " 'patents_2019_chunk_000025.csv',\n",
       " 'patents_2019_chunk_000026.csv',\n",
       " 'patents_2019_chunk_000027.csv',\n",
       " 'patents_2019_chunk_000028.csv',\n",
       " 'patents_2019_chunk_000029.csv',\n",
       " 'patents_2019_chunk_000030.csv']"
      ]
     },
     "execution_count": 130,
     "metadata": {},
     "output_type": "execute_result"
    }
   ],
   "source": [
    "os.listdir(os.path.join('../',config.data_dir, 'chunks/'))"
   ]
  },
  {
   "cell_type": "code",
   "execution_count": 128,
   "metadata": {},
   "outputs": [
    {
     "data": {
      "text/plain": [
       "{'A': 0, 'B': 1, 'C': 2, 'D': 3, 'E': 4, 'F': 5, 'G': 6, 'H': 7}"
      ]
     },
     "execution_count": 128,
     "metadata": {},
     "output_type": "execute_result"
    }
   ],
   "source": [
    "class_names = config.labels_list\n",
    "features = Features({'text': Value('string'), 'label': ClassLabel(names=class_names)})\n",
    "data_files = {\"train\":os.path.join(config.data_dir, 'example/train.csv'), \"test\":os.path.join(config.data_dir, 'example/test.csv')}\n",
    "dataset = load_dataset('csv', data_files=data_files, features=features)\n",
    "\n",
    "for chunk in patents:\n",
    "    # Combine patent with respective section info.\n",
    "    data = chunk.merge(ipcr, how='left', on='patent_id')\n",
    "\n",
    "    # Replace the letters with integers to create a suitable training input.\n",
    "    data.replace({'section':config.label2id}, inplace=True)"
   ]
  },
  {
   "cell_type": "code",
   "execution_count": 113,
   "metadata": {},
   "outputs": [
    {
     "data": {
      "text/html": [
       "<div>\n",
       "<style scoped>\n",
       "    .dataframe tbody tr th:only-of-type {\n",
       "        vertical-align: middle;\n",
       "    }\n",
       "\n",
       "    .dataframe tbody tr th {\n",
       "        vertical-align: top;\n",
       "    }\n",
       "\n",
       "    .dataframe thead th {\n",
       "        text-align: right;\n",
       "    }\n",
       "</style>\n",
       "<table border=\"1\" class=\"dataframe\">\n",
       "  <thead>\n",
       "    <tr style=\"text-align: right;\">\n",
       "      <th></th>\n",
       "      <th>id</th>\n",
       "      <th>patent_id</th>\n",
       "      <th>text</th>\n",
       "      <th>length</th>\n",
       "    </tr>\n",
       "  </thead>\n",
       "  <tbody>\n",
       "    <tr>\n",
       "      <th>0</th>\n",
       "      <td>DETAILED DESCRIPTION OF THE INVENTION\\n\\nIn th...</td>\n",
       "      <td>6</td>\n",
       "      <td>NaN</td>\n",
       "      <td>NaN</td>\n",
       "    </tr>\n",
       "  </tbody>\n",
       "</table>\n",
       "</div>"
      ],
      "text/plain": [
       "                                                  id  patent_id  text  length\n",
       "0  DETAILED DESCRIPTION OF THE INVENTION\\n\\nIn th...          6   NaN     NaN"
      ]
     },
     "execution_count": 113,
     "metadata": {},
     "output_type": "execute_result"
    }
   ],
   "source": [
    "test = pd.read_csv(os.path.join('../',config.data_dir, 'chunks/patents_2019_chunk_000000.csv'),\n",
    "    skiprows=50000,\n",
    "    nrows=10,\n",
    "    header=None,\n",
    "    names = ['id', 'patent_id','text','length'],\n",
    "\n",
    "    )\n",
    "test\n"
   ]
  },
  {
   "cell_type": "code",
   "execution_count": 109,
   "metadata": {},
   "outputs": [
    {
     "ename": "EmptyDataError",
     "evalue": "No columns to parse from file",
     "output_type": "error",
     "traceback": [
      "\u001b[0;31m---------------------------------------------------------------------------\u001b[0m",
      "\u001b[0;31mEmptyDataError\u001b[0m                            Traceback (most recent call last)",
      "\u001b[0;32m/tmp/ipykernel_22170/2239676666.py\u001b[0m in \u001b[0;36m<module>\u001b[0;34m\u001b[0m\n\u001b[1;32m      4\u001b[0m     \u001b[0mskiprows\u001b[0m\u001b[0;34m=\u001b[0m\u001b[0;36m319054\u001b[0m\u001b[0;34m,\u001b[0m\u001b[0;34m\u001b[0m\u001b[0;34m\u001b[0m\u001b[0m\n\u001b[1;32m      5\u001b[0m     \u001b[0mengine\u001b[0m\u001b[0;34m=\u001b[0m\u001b[0;34m'c'\u001b[0m\u001b[0;34m,\u001b[0m\u001b[0;34m\u001b[0m\u001b[0;34m\u001b[0m\u001b[0m\n\u001b[0;32m----> 6\u001b[0;31m     \u001b[0mnrows\u001b[0m\u001b[0;34m=\u001b[0m\u001b[0;36m10\u001b[0m\u001b[0;34m,\u001b[0m\u001b[0;34m\u001b[0m\u001b[0;34m\u001b[0m\u001b[0m\n\u001b[0m\u001b[1;32m      7\u001b[0m     )\n\u001b[1;32m      8\u001b[0m \u001b[0mpatents\u001b[0m\u001b[0;34m\u001b[0m\u001b[0;34m\u001b[0m\u001b[0m\n",
      "\u001b[0;32m~/anaconda3/envs/data_manager/lib/python3.7/site-packages/pandas/util/_decorators.py\u001b[0m in \u001b[0;36mwrapper\u001b[0;34m(*args, **kwargs)\u001b[0m\n\u001b[1;32m    309\u001b[0m                     \u001b[0mstacklevel\u001b[0m\u001b[0;34m=\u001b[0m\u001b[0mstacklevel\u001b[0m\u001b[0;34m,\u001b[0m\u001b[0;34m\u001b[0m\u001b[0;34m\u001b[0m\u001b[0m\n\u001b[1;32m    310\u001b[0m                 )\n\u001b[0;32m--> 311\u001b[0;31m             \u001b[0;32mreturn\u001b[0m \u001b[0mfunc\u001b[0m\u001b[0;34m(\u001b[0m\u001b[0;34m*\u001b[0m\u001b[0margs\u001b[0m\u001b[0;34m,\u001b[0m \u001b[0;34m**\u001b[0m\u001b[0mkwargs\u001b[0m\u001b[0;34m)\u001b[0m\u001b[0;34m\u001b[0m\u001b[0;34m\u001b[0m\u001b[0m\n\u001b[0m\u001b[1;32m    312\u001b[0m \u001b[0;34m\u001b[0m\u001b[0m\n\u001b[1;32m    313\u001b[0m         \u001b[0;32mreturn\u001b[0m \u001b[0mwrapper\u001b[0m\u001b[0;34m\u001b[0m\u001b[0;34m\u001b[0m\u001b[0m\n",
      "\u001b[0;32m~/anaconda3/envs/data_manager/lib/python3.7/site-packages/pandas/io/parsers/readers.py\u001b[0m in \u001b[0;36mread_csv\u001b[0;34m(filepath_or_buffer, sep, delimiter, header, names, index_col, usecols, squeeze, prefix, mangle_dupe_cols, dtype, engine, converters, true_values, false_values, skipinitialspace, skiprows, skipfooter, nrows, na_values, keep_default_na, na_filter, verbose, skip_blank_lines, parse_dates, infer_datetime_format, keep_date_col, date_parser, dayfirst, cache_dates, iterator, chunksize, compression, thousands, decimal, lineterminator, quotechar, quoting, doublequote, escapechar, comment, encoding, encoding_errors, dialect, error_bad_lines, warn_bad_lines, on_bad_lines, delim_whitespace, low_memory, memory_map, float_precision, storage_options)\u001b[0m\n\u001b[1;32m    584\u001b[0m     \u001b[0mkwds\u001b[0m\u001b[0;34m.\u001b[0m\u001b[0mupdate\u001b[0m\u001b[0;34m(\u001b[0m\u001b[0mkwds_defaults\u001b[0m\u001b[0;34m)\u001b[0m\u001b[0;34m\u001b[0m\u001b[0;34m\u001b[0m\u001b[0m\n\u001b[1;32m    585\u001b[0m \u001b[0;34m\u001b[0m\u001b[0m\n\u001b[0;32m--> 586\u001b[0;31m     \u001b[0;32mreturn\u001b[0m \u001b[0m_read\u001b[0m\u001b[0;34m(\u001b[0m\u001b[0mfilepath_or_buffer\u001b[0m\u001b[0;34m,\u001b[0m \u001b[0mkwds\u001b[0m\u001b[0;34m)\u001b[0m\u001b[0;34m\u001b[0m\u001b[0;34m\u001b[0m\u001b[0m\n\u001b[0m\u001b[1;32m    587\u001b[0m \u001b[0;34m\u001b[0m\u001b[0m\n\u001b[1;32m    588\u001b[0m \u001b[0;34m\u001b[0m\u001b[0m\n",
      "\u001b[0;32m~/anaconda3/envs/data_manager/lib/python3.7/site-packages/pandas/io/parsers/readers.py\u001b[0m in \u001b[0;36m_read\u001b[0;34m(filepath_or_buffer, kwds)\u001b[0m\n\u001b[1;32m    480\u001b[0m \u001b[0;34m\u001b[0m\u001b[0m\n\u001b[1;32m    481\u001b[0m     \u001b[0;31m# Create the parser.\u001b[0m\u001b[0;34m\u001b[0m\u001b[0;34m\u001b[0m\u001b[0;34m\u001b[0m\u001b[0m\n\u001b[0;32m--> 482\u001b[0;31m     \u001b[0mparser\u001b[0m \u001b[0;34m=\u001b[0m \u001b[0mTextFileReader\u001b[0m\u001b[0;34m(\u001b[0m\u001b[0mfilepath_or_buffer\u001b[0m\u001b[0;34m,\u001b[0m \u001b[0;34m**\u001b[0m\u001b[0mkwds\u001b[0m\u001b[0;34m)\u001b[0m\u001b[0;34m\u001b[0m\u001b[0;34m\u001b[0m\u001b[0m\n\u001b[0m\u001b[1;32m    483\u001b[0m \u001b[0;34m\u001b[0m\u001b[0m\n\u001b[1;32m    484\u001b[0m     \u001b[0;32mif\u001b[0m \u001b[0mchunksize\u001b[0m \u001b[0;32mor\u001b[0m \u001b[0miterator\u001b[0m\u001b[0;34m:\u001b[0m\u001b[0;34m\u001b[0m\u001b[0;34m\u001b[0m\u001b[0m\n",
      "\u001b[0;32m~/anaconda3/envs/data_manager/lib/python3.7/site-packages/pandas/io/parsers/readers.py\u001b[0m in \u001b[0;36m__init__\u001b[0;34m(self, f, engine, **kwds)\u001b[0m\n\u001b[1;32m    809\u001b[0m             \u001b[0mself\u001b[0m\u001b[0;34m.\u001b[0m\u001b[0moptions\u001b[0m\u001b[0;34m[\u001b[0m\u001b[0;34m\"has_index_names\"\u001b[0m\u001b[0;34m]\u001b[0m \u001b[0;34m=\u001b[0m \u001b[0mkwds\u001b[0m\u001b[0;34m[\u001b[0m\u001b[0;34m\"has_index_names\"\u001b[0m\u001b[0;34m]\u001b[0m\u001b[0;34m\u001b[0m\u001b[0;34m\u001b[0m\u001b[0m\n\u001b[1;32m    810\u001b[0m \u001b[0;34m\u001b[0m\u001b[0m\n\u001b[0;32m--> 811\u001b[0;31m         \u001b[0mself\u001b[0m\u001b[0;34m.\u001b[0m\u001b[0m_engine\u001b[0m \u001b[0;34m=\u001b[0m \u001b[0mself\u001b[0m\u001b[0;34m.\u001b[0m\u001b[0m_make_engine\u001b[0m\u001b[0;34m(\u001b[0m\u001b[0mself\u001b[0m\u001b[0;34m.\u001b[0m\u001b[0mengine\u001b[0m\u001b[0;34m)\u001b[0m\u001b[0;34m\u001b[0m\u001b[0;34m\u001b[0m\u001b[0m\n\u001b[0m\u001b[1;32m    812\u001b[0m \u001b[0;34m\u001b[0m\u001b[0m\n\u001b[1;32m    813\u001b[0m     \u001b[0;32mdef\u001b[0m \u001b[0mclose\u001b[0m\u001b[0;34m(\u001b[0m\u001b[0mself\u001b[0m\u001b[0;34m)\u001b[0m\u001b[0;34m:\u001b[0m\u001b[0;34m\u001b[0m\u001b[0;34m\u001b[0m\u001b[0m\n",
      "\u001b[0;32m~/anaconda3/envs/data_manager/lib/python3.7/site-packages/pandas/io/parsers/readers.py\u001b[0m in \u001b[0;36m_make_engine\u001b[0;34m(self, engine)\u001b[0m\n\u001b[1;32m   1038\u001b[0m             )\n\u001b[1;32m   1039\u001b[0m         \u001b[0;31m# error: Too many arguments for \"ParserBase\"\u001b[0m\u001b[0;34m\u001b[0m\u001b[0;34m\u001b[0m\u001b[0;34m\u001b[0m\u001b[0m\n\u001b[0;32m-> 1040\u001b[0;31m         \u001b[0;32mreturn\u001b[0m \u001b[0mmapping\u001b[0m\u001b[0;34m[\u001b[0m\u001b[0mengine\u001b[0m\u001b[0;34m]\u001b[0m\u001b[0;34m(\u001b[0m\u001b[0mself\u001b[0m\u001b[0;34m.\u001b[0m\u001b[0mf\u001b[0m\u001b[0;34m,\u001b[0m \u001b[0;34m**\u001b[0m\u001b[0mself\u001b[0m\u001b[0;34m.\u001b[0m\u001b[0moptions\u001b[0m\u001b[0;34m)\u001b[0m  \u001b[0;31m# type: ignore[call-arg]\u001b[0m\u001b[0;34m\u001b[0m\u001b[0;34m\u001b[0m\u001b[0m\n\u001b[0m\u001b[1;32m   1041\u001b[0m \u001b[0;34m\u001b[0m\u001b[0m\n\u001b[1;32m   1042\u001b[0m     \u001b[0;32mdef\u001b[0m \u001b[0m_failover_to_python\u001b[0m\u001b[0;34m(\u001b[0m\u001b[0mself\u001b[0m\u001b[0;34m)\u001b[0m\u001b[0;34m:\u001b[0m\u001b[0;34m\u001b[0m\u001b[0;34m\u001b[0m\u001b[0m\n",
      "\u001b[0;32m~/anaconda3/envs/data_manager/lib/python3.7/site-packages/pandas/io/parsers/c_parser_wrapper.py\u001b[0m in \u001b[0;36m__init__\u001b[0;34m(self, src, **kwds)\u001b[0m\n\u001b[1;32m     67\u001b[0m         \u001b[0mkwds\u001b[0m\u001b[0;34m[\u001b[0m\u001b[0;34m\"dtype\"\u001b[0m\u001b[0;34m]\u001b[0m \u001b[0;34m=\u001b[0m \u001b[0mensure_dtype_objs\u001b[0m\u001b[0;34m(\u001b[0m\u001b[0mkwds\u001b[0m\u001b[0;34m.\u001b[0m\u001b[0mget\u001b[0m\u001b[0;34m(\u001b[0m\u001b[0;34m\"dtype\"\u001b[0m\u001b[0;34m,\u001b[0m \u001b[0;32mNone\u001b[0m\u001b[0;34m)\u001b[0m\u001b[0;34m)\u001b[0m\u001b[0;34m\u001b[0m\u001b[0;34m\u001b[0m\u001b[0m\n\u001b[1;32m     68\u001b[0m         \u001b[0;32mtry\u001b[0m\u001b[0;34m:\u001b[0m\u001b[0;34m\u001b[0m\u001b[0;34m\u001b[0m\u001b[0m\n\u001b[0;32m---> 69\u001b[0;31m             \u001b[0mself\u001b[0m\u001b[0;34m.\u001b[0m\u001b[0m_reader\u001b[0m \u001b[0;34m=\u001b[0m \u001b[0mparsers\u001b[0m\u001b[0;34m.\u001b[0m\u001b[0mTextReader\u001b[0m\u001b[0;34m(\u001b[0m\u001b[0mself\u001b[0m\u001b[0;34m.\u001b[0m\u001b[0mhandles\u001b[0m\u001b[0;34m.\u001b[0m\u001b[0mhandle\u001b[0m\u001b[0;34m,\u001b[0m \u001b[0;34m**\u001b[0m\u001b[0mkwds\u001b[0m\u001b[0;34m)\u001b[0m\u001b[0;34m\u001b[0m\u001b[0;34m\u001b[0m\u001b[0m\n\u001b[0m\u001b[1;32m     70\u001b[0m         \u001b[0;32mexcept\u001b[0m \u001b[0mException\u001b[0m\u001b[0;34m:\u001b[0m\u001b[0;34m\u001b[0m\u001b[0;34m\u001b[0m\u001b[0m\n\u001b[1;32m     71\u001b[0m             \u001b[0mself\u001b[0m\u001b[0;34m.\u001b[0m\u001b[0mhandles\u001b[0m\u001b[0;34m.\u001b[0m\u001b[0mclose\u001b[0m\u001b[0;34m(\u001b[0m\u001b[0;34m)\u001b[0m\u001b[0;34m\u001b[0m\u001b[0;34m\u001b[0m\u001b[0m\n",
      "\u001b[0;32m~/anaconda3/envs/data_manager/lib/python3.7/site-packages/pandas/_libs/parsers.pyx\u001b[0m in \u001b[0;36mpandas._libs.parsers.TextReader.__cinit__\u001b[0;34m()\u001b[0m\n",
      "\u001b[0;31mEmptyDataError\u001b[0m: No columns to parse from file"
     ]
    }
   ],
   "source": [
    "patents = pd.read_csv(os.path.join('../',config.data_dir, 'detail_desc_text_'+config.patents_year+'.tsv'),\n",
    "    sep=\"\\t\",\n",
    "    encoding='utf8',\n",
    "    skiprows=319054,\n",
    "    engine='c',\n",
    "    nrows=10,\n",
    "    )\n",
    "patents"
   ]
  },
  {
   "cell_type": "code",
   "execution_count": 105,
   "metadata": {},
   "outputs": [
    {
     "data": {
      "text/html": [
       "<div>\n",
       "<style scoped>\n",
       "    .dataframe tbody tr th:only-of-type {\n",
       "        vertical-align: middle;\n",
       "    }\n",
       "\n",
       "    .dataframe tbody tr th {\n",
       "        vertical-align: top;\n",
       "    }\n",
       "\n",
       "    .dataframe thead th {\n",
       "        text-align: right;\n",
       "    }\n",
       "</style>\n",
       "<table border=\"1\" class=\"dataframe\">\n",
       "  <thead>\n",
       "    <tr style=\"text-align: right;\">\n",
       "      <th></th>\n",
       "      <th>patent_id</th>\n",
       "      <th>text</th>\n",
       "    </tr>\n",
       "  </thead>\n",
       "  <tbody>\n",
       "    <tr>\n",
       "      <th>0</th>\n",
       "      <td>patent_id</td>\n",
       "      <td>text</td>\n",
       "    </tr>\n",
       "    <tr>\n",
       "      <th>1</th>\n",
       "      <td>10165721</td>\n",
       "      <td>DESCRIPTION OF THE PREFERRED EMBODIMENTS\\n\\nWi...</td>\n",
       "    </tr>\n",
       "    <tr>\n",
       "      <th>2</th>\n",
       "      <td>10165722</td>\n",
       "      <td>DETAILED DESCRIPTION\\n\\nHuman beings have cert...</td>\n",
       "    </tr>\n",
       "    <tr>\n",
       "      <th>3</th>\n",
       "      <td>10165723</td>\n",
       "      <td>DETAILED DESCRIPTION\\n\\nReferring toFIGS. 1, 1...</td>\n",
       "    </tr>\n",
       "    <tr>\n",
       "      <th>4</th>\n",
       "      <td>10165724</td>\n",
       "      <td>DETAILED DESCRIPTION OF THE PREFERRED EMBODIME...</td>\n",
       "    </tr>\n",
       "    <tr>\n",
       "      <th>5</th>\n",
       "      <td>10165725</td>\n",
       "      <td>DETAILED DESCRIPTION\\n\\nBefore describing the ...</td>\n",
       "    </tr>\n",
       "    <tr>\n",
       "      <th>6</th>\n",
       "      <td>10165726</td>\n",
       "      <td>Corresponding reference characters indicate co...</td>\n",
       "    </tr>\n",
       "    <tr>\n",
       "      <th>7</th>\n",
       "      <td>10165727</td>\n",
       "      <td>DETAILED DESCRIPTION OF PREFERRED EMBODIMENTS ...</td>\n",
       "    </tr>\n",
       "    <tr>\n",
       "      <th>8</th>\n",
       "      <td>10165728</td>\n",
       "      <td>DETAILED DESCRIPTION OF THE PREFERRED EMBODIME...</td>\n",
       "    </tr>\n",
       "    <tr>\n",
       "      <th>9</th>\n",
       "      <td>10165729</td>\n",
       "      <td>DETAILED DESCRIPTION\\n\\nReference will now be ...</td>\n",
       "    </tr>\n",
       "  </tbody>\n",
       "</table>\n",
       "</div>"
      ],
      "text/plain": [
       "   patent_id                                               text\n",
       "0  patent_id                                               text\n",
       "1   10165721  DESCRIPTION OF THE PREFERRED EMBODIMENTS\\n\\nWi...\n",
       "2   10165722  DETAILED DESCRIPTION\\n\\nHuman beings have cert...\n",
       "3   10165723  DETAILED DESCRIPTION\\n\\nReferring toFIGS. 1, 1...\n",
       "4   10165724  DETAILED DESCRIPTION OF THE PREFERRED EMBODIME...\n",
       "5   10165725  DETAILED DESCRIPTION\\n\\nBefore describing the ...\n",
       "6   10165726  Corresponding reference characters indicate co...\n",
       "7   10165727  DETAILED DESCRIPTION OF PREFERRED EMBODIMENTS ...\n",
       "8   10165728  DETAILED DESCRIPTION OF THE PREFERRED EMBODIME...\n",
       "9   10165729  DETAILED DESCRIPTION\\n\\nReference will now be ..."
      ]
     },
     "execution_count": 105,
     "metadata": {},
     "output_type": "execute_result"
    }
   ],
   "source": [
    "patents = pd.read_csv(os.path.join('../',config.data_dir, 'detail_desc_text_'+config.patents_year+'.tsv'),\n",
    "    sep=\"\\t\",\n",
    "    encoding='utf8',\n",
    "    on_bad_lines='warn',\n",
    "    encoding_errors='ignore',\n",
    "   # skiprows=[1,1,1,0], # skiprows=319052,\n",
    "    engine='c',\n",
    "    nrows=10,\n",
    "    header=None,\n",
    "    names = ['id', 'patent_id','text','length'],\n",
    "    usecols=['patent_id', 'text'],\n",
    "    dtype={'patent_id':object, 'text':object},\n",
    "    )\n",
    "patents"
   ]
  },
  {
   "cell_type": "code",
   "execution_count": null,
   "metadata": {},
   "outputs": [],
   "source": [
    "# hatalı kayııtan bir önceki id 10487259\n",
    "# hatalı kayıt satur sayısı 319052"
   ]
  },
  {
   "cell_type": "code",
   "execution_count": 48,
   "metadata": {},
   "outputs": [
    {
     "data": {
      "text/html": [
       "<div>\n",
       "<style scoped>\n",
       "    .dataframe tbody tr th:only-of-type {\n",
       "        vertical-align: middle;\n",
       "    }\n",
       "\n",
       "    .dataframe tbody tr th {\n",
       "        vertical-align: top;\n",
       "    }\n",
       "\n",
       "    .dataframe thead th {\n",
       "        text-align: right;\n",
       "    }\n",
       "</style>\n",
       "<table border=\"1\" class=\"dataframe\">\n",
       "  <thead>\n",
       "    <tr style=\"text-align: right;\">\n",
       "      <th></th>\n",
       "      <th>id</th>\n",
       "      <th>patent_id</th>\n",
       "      <th>text</th>\n",
       "      <th>length</th>\n",
       "    </tr>\n",
       "  </thead>\n",
       "  <tbody>\n",
       "    <tr>\n",
       "      <th>0</th>\n",
       "      <td>3a88fd0f-fb74-11ea-a344-121df0c29c1e</td>\n",
       "      <td>10487259</td>\n",
       "      <td>DETAILED DESCRIPTION\\n\\nReference will now be ...</td>\n",
       "      <td>78570</td>\n",
       "    </tr>\n",
       "  </tbody>\n",
       "</table>\n",
       "</div>"
      ],
      "text/plain": [
       "                                     id  patent_id  \\\n",
       "0  3a88fd0f-fb74-11ea-a344-121df0c29c1e   10487259   \n",
       "\n",
       "                                                text  length  \n",
       "0  DETAILED DESCRIPTION\\n\\nReference will now be ...   78570  "
      ]
     },
     "execution_count": 48,
     "metadata": {},
     "output_type": "execute_result"
    }
   ],
   "source": [
    "patentspatents = pd.read_csv(os.path.join('../',config.data_dir, 'detail_desc_text_'+config.patents_year+'.tsv'),\n",
    "    sep=\"\\t\",\n",
    "    encoding='utf8',\n",
    "    on_bad_lines='warn',\n",
    "    encoding_errors='ignore',\n",
    "    skiprows=319054,\n",
    "    engine='c',\n",
    "    nrows=3,\n",
    "    header=None,\n",
    "    names = ['id', 'patent_id','text','length'],\n",
    "    usecols=['patent_id', 'text'],\n",
    "    dtype={'patent_id':object, 'text':object},\n",
    "    )\n",
    "patents"
   ]
  },
  {
   "cell_type": "code",
   "execution_count": 61,
   "metadata": {},
   "outputs": [
    {
     "data": {
      "text/html": [
       "<div>\n",
       "<style scoped>\n",
       "    .dataframe tbody tr th:only-of-type {\n",
       "        vertical-align: middle;\n",
       "    }\n",
       "\n",
       "    .dataframe tbody tr th {\n",
       "        vertical-align: top;\n",
       "    }\n",
       "\n",
       "    .dataframe thead th {\n",
       "        text-align: right;\n",
       "    }\n",
       "</style>\n",
       "<table border=\"1\" class=\"dataframe\">\n",
       "  <thead>\n",
       "    <tr style=\"text-align: right;\">\n",
       "      <th></th>\n",
       "      <th>id</th>\n",
       "      <th>patent_id</th>\n",
       "      <th>text</th>\n",
       "      <th>length</th>\n",
       "    </tr>\n",
       "  </thead>\n",
       "  <tbody>\n",
       "    <tr>\n",
       "      <th>0</th>\n",
       "      <td>Synthesis</td>\n",
       "      <td>NaN</td>\n",
       "      <td>NaN</td>\n",
       "      <td>NaN</td>\n",
       "    </tr>\n",
       "    <tr>\n",
       "      <th>1</th>\n",
       "      <td>A further aspect of the invention relates to a...</td>\n",
       "      <td>NaN</td>\n",
       "      <td>NaN</td>\n",
       "      <td>NaN</td>\n",
       "    </tr>\n",
       "    <tr>\n",
       "      <th>2</th>\n",
       "      <td>The reaction is preferably performed in the pr...</td>\n",
       "      <td>NaN</td>\n",
       "      <td>NaN</td>\n",
       "      <td>NaN</td>\n",
       "    </tr>\n",
       "    <tr>\n",
       "      <th>3</th>\n",
       "      <td>In one embodiment the process for preparing a ...</td>\n",
       "      <td>NaN</td>\n",
       "      <td>NaN</td>\n",
       "      <td>NaN</td>\n",
       "    </tr>\n",
       "    <tr>\n",
       "      <th>4</th>\n",
       "      <td>The reaction is preferably performed under mit...</td>\n",
       "      <td>NaN</td>\n",
       "      <td>NaN</td>\n",
       "      <td>NaN</td>\n",
       "    </tr>\n",
       "    <tr>\n",
       "      <th>...</th>\n",
       "      <td>...</td>\n",
       "      <td>...</td>\n",
       "      <td>...</td>\n",
       "      <td>...</td>\n",
       "    </tr>\n",
       "    <tr>\n",
       "      <th>49995</th>\n",
       "      <td>In the arrangement300according toFIG. 3, an em...</td>\n",
       "      <td>NaN</td>\n",
       "      <td>NaN</td>\n",
       "      <td>NaN</td>\n",
       "    </tr>\n",
       "    <tr>\n",
       "      <th>49996</th>\n",
       "      <td>In one embodiment of the method according to t...</td>\n",
       "      <td>NaN</td>\n",
       "      <td>NaN</td>\n",
       "      <td>NaN</td>\n",
       "    </tr>\n",
       "    <tr>\n",
       "      <th>49997</th>\n",
       "      <td>A deviation of the anticipated target value of...</td>\n",
       "      <td>NaN</td>\n",
       "      <td>NaN</td>\n",
       "      <td>NaN</td>\n",
       "    </tr>\n",
       "    <tr>\n",
       "      <th>49998</th>\n",
       "      <td>The recording of the sensor values, storing th...</td>\n",
       "      <td>NaN</td>\n",
       "      <td>NaN</td>\n",
       "      <td>NaN</td>\n",
       "    </tr>\n",
       "    <tr>\n",
       "      <th>49999</th>\n",
       "      <td>Turning now toFIG. 4, a method400for calibrati...</td>\n",
       "      <td>NaN</td>\n",
       "      <td>NaN</td>\n",
       "      <td>NaN</td>\n",
       "    </tr>\n",
       "  </tbody>\n",
       "</table>\n",
       "<p>50000 rows × 4 columns</p>\n",
       "</div>"
      ],
      "text/plain": [
       "                                                      id patent_id text  \\\n",
       "0                                              Synthesis       NaN  NaN   \n",
       "1      A further aspect of the invention relates to a...       NaN  NaN   \n",
       "2      The reaction is preferably performed in the pr...       NaN  NaN   \n",
       "3      In one embodiment the process for preparing a ...       NaN  NaN   \n",
       "4      The reaction is preferably performed under mit...       NaN  NaN   \n",
       "...                                                  ...       ...  ...   \n",
       "49995  In the arrangement300according toFIG. 3, an em...       NaN  NaN   \n",
       "49996  In one embodiment of the method according to t...       NaN  NaN   \n",
       "49997  A deviation of the anticipated target value of...       NaN  NaN   \n",
       "49998  The recording of the sensor values, storing th...       NaN  NaN   \n",
       "49999  Turning now toFIG. 4, a method400for calibrati...       NaN  NaN   \n",
       "\n",
       "       length  \n",
       "0         NaN  \n",
       "1         NaN  \n",
       "2         NaN  \n",
       "3         NaN  \n",
       "4         NaN  \n",
       "...       ...  \n",
       "49995     NaN  \n",
       "49996     NaN  \n",
       "49997     NaN  \n",
       "49998     NaN  \n",
       "49999     NaN  \n",
       "\n",
       "[50000 rows x 4 columns]"
      ]
     },
     "execution_count": 61,
     "metadata": {},
     "output_type": "execute_result"
    }
   ],
   "source": [
    "patents"
   ]
  },
  {
   "cell_type": "code",
   "execution_count": 26,
   "metadata": {},
   "outputs": [
    {
     "data": {
      "text/html": [
       "<div>\n",
       "<style scoped>\n",
       "    .dataframe tbody tr th:only-of-type {\n",
       "        vertical-align: middle;\n",
       "    }\n",
       "\n",
       "    .dataframe tbody tr th {\n",
       "        vertical-align: top;\n",
       "    }\n",
       "\n",
       "    .dataframe thead th {\n",
       "        text-align: right;\n",
       "    }\n",
       "</style>\n",
       "<table border=\"1\" class=\"dataframe\">\n",
       "  <thead>\n",
       "    <tr style=\"text-align: right;\">\n",
       "      <th></th>\n",
       "      <th>text</th>\n",
       "      <th>label</th>\n",
       "    </tr>\n",
       "  </thead>\n",
       "  <tbody>\n",
       "    <tr>\n",
       "      <th>299995</th>\n",
       "      <td>DETAILED DESCRIPTION\\n\\nThe present invention ...</td>\n",
       "      <td>6</td>\n",
       "    </tr>\n",
       "    <tr>\n",
       "      <th>299996</th>\n",
       "      <td>DETAILED DESCRIPTION OF THE DISCLOSURE\\n\\nEmbo...</td>\n",
       "      <td>6</td>\n",
       "    </tr>\n",
       "    <tr>\n",
       "      <th>299997</th>\n",
       "      <td>DETAILED DESCRIPTION OF PREFERRED EMBODIMENTS\\...</td>\n",
       "      <td>7</td>\n",
       "    </tr>\n",
       "    <tr>\n",
       "      <th>299998</th>\n",
       "      <td>DETAILED DESCRIPTION\\n\\nReference will now be ...</td>\n",
       "      <td>6</td>\n",
       "    </tr>\n",
       "    <tr>\n",
       "      <th>299999</th>\n",
       "      <td>DETAILED DESCRIPTION\\n\\nThe following detailed...</td>\n",
       "      <td>6</td>\n",
       "    </tr>\n",
       "    <tr>\n",
       "      <th>300000</th>\n",
       "      <td>DETAILED DESCRIPTION\\n\\nThe present invention ...</td>\n",
       "      <td>6</td>\n",
       "    </tr>\n",
       "    <tr>\n",
       "      <th>300001</th>\n",
       "      <td>DETAILED DESCRIPTION\\n\\nDisclosed herein is a ...</td>\n",
       "      <td>6</td>\n",
       "    </tr>\n",
       "    <tr>\n",
       "      <th>300002</th>\n",
       "      <td>DETAILED DESCRIPTION\\n\\nThe following detailed...</td>\n",
       "      <td>6</td>\n",
       "    </tr>\n",
       "    <tr>\n",
       "      <th>300003</th>\n",
       "      <td>DETAILED DESCRIPTION\\n\\nThe following detailed...</td>\n",
       "      <td>6</td>\n",
       "    </tr>\n",
       "    <tr>\n",
       "      <th>300004</th>\n",
       "      <td>DETAILED DESCRIPTION OF THE INVENTION\\n\\nThe s...</td>\n",
       "      <td>6</td>\n",
       "    </tr>\n",
       "  </tbody>\n",
       "</table>\n",
       "</div>"
      ],
      "text/plain": [
       "                                                     text label\n",
       "299995  DETAILED DESCRIPTION\\n\\nThe present invention ...     6\n",
       "299996  DETAILED DESCRIPTION OF THE DISCLOSURE\\n\\nEmbo...     6\n",
       "299997  DETAILED DESCRIPTION OF PREFERRED EMBODIMENTS\\...     7\n",
       "299998  DETAILED DESCRIPTION\\n\\nReference will now be ...     6\n",
       "299999  DETAILED DESCRIPTION\\n\\nThe following detailed...     6\n",
       "300000  DETAILED DESCRIPTION\\n\\nThe present invention ...     6\n",
       "300001  DETAILED DESCRIPTION\\n\\nDisclosed herein is a ...     6\n",
       "300002  DETAILED DESCRIPTION\\n\\nThe following detailed...     6\n",
       "300003  DETAILED DESCRIPTION\\n\\nThe following detailed...     6\n",
       "300004  DETAILED DESCRIPTION OF THE INVENTION\\n\\nThe s...     6"
      ]
     },
     "execution_count": 26,
     "metadata": {},
     "output_type": "execute_result"
    }
   ],
   "source": [
    "df.loc[299995:]"
   ]
  },
  {
   "cell_type": "code",
   "execution_count": 24,
   "metadata": {},
   "outputs": [],
   "source": [
    "cf = pd.read_csv('../data/patentsview/chunks/patents_2019_chunk_000005.csv')"
   ]
  },
  {
   "cell_type": "code",
   "execution_count": 33,
   "metadata": {},
   "outputs": [
    {
     "data": {
      "text/html": [
       "<div>\n",
       "<style scoped>\n",
       "    .dataframe tbody tr th:only-of-type {\n",
       "        vertical-align: middle;\n",
       "    }\n",
       "\n",
       "    .dataframe tbody tr th {\n",
       "        vertical-align: top;\n",
       "    }\n",
       "\n",
       "    .dataframe thead th {\n",
       "        text-align: right;\n",
       "    }\n",
       "</style>\n",
       "<table border=\"1\" class=\"dataframe\">\n",
       "  <thead>\n",
       "    <tr style=\"text-align: right;\">\n",
       "      <th></th>\n",
       "      <th>text</th>\n",
       "      <th>label</th>\n",
       "    </tr>\n",
       "  </thead>\n",
       "  <tbody>\n",
       "    <tr>\n",
       "      <th>15</th>\n",
       "      <td>DETAILED DESCRIPTION\\n\\nIn accordance with the...</td>\n",
       "      <td>0</td>\n",
       "    </tr>\n",
       "    <tr>\n",
       "      <th>107</th>\n",
       "      <td>DETAILED DESCRIPTION\\n\\nFIG. 1illustrates an i...</td>\n",
       "      <td>0</td>\n",
       "    </tr>\n",
       "    <tr>\n",
       "      <th>258</th>\n",
       "      <td>DETAILED DESCRIPTION\\n\\nIn accordance with exe...</td>\n",
       "      <td>0</td>\n",
       "    </tr>\n",
       "    <tr>\n",
       "      <th>285</th>\n",
       "      <td>Referring first toFIG. 1, an ultrasound system...</td>\n",
       "      <td>0</td>\n",
       "    </tr>\n",
       "    <tr>\n",
       "      <th>470</th>\n",
       "      <td>DETAILED DESCRIPTION\\n\\nThe present invention ...</td>\n",
       "      <td>0</td>\n",
       "    </tr>\n",
       "    <tr>\n",
       "      <th>...</th>\n",
       "      <td>...</td>\n",
       "      <td>...</td>\n",
       "    </tr>\n",
       "    <tr>\n",
       "      <th>289291</th>\n",
       "      <td>Reference will now be made in detail to the pr...</td>\n",
       "      <td>1</td>\n",
       "    </tr>\n",
       "    <tr>\n",
       "      <th>291793</th>\n",
       "      <td>DETAILED DESCRIPTION\\n\\nDescribed herein are m...</td>\n",
       "      <td>6</td>\n",
       "    </tr>\n",
       "    <tr>\n",
       "      <th>294162</th>\n",
       "      <td>DETAILED DESCRIPTION\\n\\nFIG. 1is a schematic d...</td>\n",
       "      <td>7</td>\n",
       "    </tr>\n",
       "    <tr>\n",
       "      <th>294594</th>\n",
       "      <td>DETAILED DESCRIPTION\\n\\nThis disclosure is bas...</td>\n",
       "      <td>7</td>\n",
       "    </tr>\n",
       "    <tr>\n",
       "      <th>299116</th>\n",
       "      <td>DETAILED DESCRIPTION\\n\\nIt is understood in ad...</td>\n",
       "      <td>6</td>\n",
       "    </tr>\n",
       "  </tbody>\n",
       "</table>\n",
       "<p>2057 rows × 2 columns</p>\n",
       "</div>"
      ],
      "text/plain": [
       "                                                     text label\n",
       "15      DETAILED DESCRIPTION\\n\\nIn accordance with the...     0\n",
       "107     DETAILED DESCRIPTION\\n\\nFIG. 1illustrates an i...     0\n",
       "258     DETAILED DESCRIPTION\\n\\nIn accordance with exe...     0\n",
       "285     Referring first toFIG. 1, an ultrasound system...     0\n",
       "470     DETAILED DESCRIPTION\\n\\nThe present invention ...     0\n",
       "...                                                   ...   ...\n",
       "289291  Reference will now be made in detail to the pr...     1\n",
       "291793  DETAILED DESCRIPTION\\n\\nDescribed herein are m...     6\n",
       "294162  DETAILED DESCRIPTION\\n\\nFIG. 1is a schematic d...     7\n",
       "294594  DETAILED DESCRIPTION\\n\\nThis disclosure is bas...     7\n",
       "299116  DETAILED DESCRIPTION\\n\\nIt is understood in ad...     6\n",
       "\n",
       "[2057 rows x 2 columns]"
      ]
     },
     "execution_count": 33,
     "metadata": {},
     "output_type": "execute_result"
    }
   ],
   "source": [
    "df[df[\"text\"].duplicated(keep=\"last\")]"
   ]
  },
  {
   "cell_type": "code",
   "execution_count": 41,
   "metadata": {},
   "outputs": [],
   "source": [
    "xf = pd.read_csv('../data/patentsview/detail_desc_text_2019.tsv', sep='\\t', nrows=20000, usecols=['patent_id', 'text'])"
   ]
  },
  {
   "cell_type": "code",
   "execution_count": 42,
   "metadata": {},
   "outputs": [
    {
     "data": {
      "text/html": [
       "<div>\n",
       "<style scoped>\n",
       "    .dataframe tbody tr th:only-of-type {\n",
       "        vertical-align: middle;\n",
       "    }\n",
       "\n",
       "    .dataframe tbody tr th {\n",
       "        vertical-align: top;\n",
       "    }\n",
       "\n",
       "    .dataframe thead th {\n",
       "        text-align: right;\n",
       "    }\n",
       "</style>\n",
       "<table border=\"1\" class=\"dataframe\">\n",
       "  <thead>\n",
       "    <tr style=\"text-align: right;\">\n",
       "      <th></th>\n",
       "      <th>patent_id</th>\n",
       "      <th>text</th>\n",
       "    </tr>\n",
       "  </thead>\n",
       "  <tbody>\n",
       "    <tr>\n",
       "      <th>15</th>\n",
       "      <td>10165736</td>\n",
       "      <td>DETAILED DESCRIPTION\\n\\nIn accordance with the...</td>\n",
       "    </tr>\n",
       "    <tr>\n",
       "      <th>6532</th>\n",
       "      <td>10172299</td>\n",
       "      <td>DETAILED DESCRIPTION\\n\\nIn accordance with the...</td>\n",
       "    </tr>\n",
       "  </tbody>\n",
       "</table>\n",
       "</div>"
      ],
      "text/plain": [
       "      patent_id                                               text\n",
       "15     10165736  DETAILED DESCRIPTION\\n\\nIn accordance with the...\n",
       "6532   10172299  DETAILED DESCRIPTION\\n\\nIn accordance with the..."
      ]
     },
     "execution_count": 42,
     "metadata": {},
     "output_type": "execute_result"
    }
   ],
   "source": [
    "xf[xf['text'] == df.loc[15]['text']]"
   ]
  },
  {
   "cell_type": "code",
   "execution_count": 44,
   "metadata": {},
   "outputs": [],
   "source": [
    "ipcr = pd.read_csv('../data/patentsview/ipcr.tsv', sep=\"\\t\", usecols=['patent_id','section'])"
   ]
  },
  {
   "cell_type": "code",
   "execution_count": 45,
   "metadata": {},
   "outputs": [
    {
     "data": {
      "text/html": [
       "<div>\n",
       "<style scoped>\n",
       "    .dataframe tbody tr th:only-of-type {\n",
       "        vertical-align: middle;\n",
       "    }\n",
       "\n",
       "    .dataframe tbody tr th {\n",
       "        vertical-align: top;\n",
       "    }\n",
       "\n",
       "    .dataframe thead th {\n",
       "        text-align: right;\n",
       "    }\n",
       "</style>\n",
       "<table border=\"1\" class=\"dataframe\">\n",
       "  <thead>\n",
       "    <tr style=\"text-align: right;\">\n",
       "      <th></th>\n",
       "      <th>patent_id</th>\n",
       "      <th>section</th>\n",
       "    </tr>\n",
       "  </thead>\n",
       "  <tbody>\n",
       "    <tr>\n",
       "      <th>1276152</th>\n",
       "      <td>10165736</td>\n",
       "      <td>A</td>\n",
       "    </tr>\n",
       "    <tr>\n",
       "      <th>5699882</th>\n",
       "      <td>10165736</td>\n",
       "      <td>A</td>\n",
       "    </tr>\n",
       "    <tr>\n",
       "      <th>6489837</th>\n",
       "      <td>10165736</td>\n",
       "      <td>A</td>\n",
       "    </tr>\n",
       "    <tr>\n",
       "      <th>6987628</th>\n",
       "      <td>10165736</td>\n",
       "      <td>G</td>\n",
       "    </tr>\n",
       "    <tr>\n",
       "      <th>7935397</th>\n",
       "      <td>10165736</td>\n",
       "      <td>G</td>\n",
       "    </tr>\n",
       "    <tr>\n",
       "      <th>15065440</th>\n",
       "      <td>10165736</td>\n",
       "      <td>G</td>\n",
       "    </tr>\n",
       "    <tr>\n",
       "      <th>16468120</th>\n",
       "      <td>10165736</td>\n",
       "      <td>A</td>\n",
       "    </tr>\n",
       "  </tbody>\n",
       "</table>\n",
       "</div>"
      ],
      "text/plain": [
       "         patent_id section\n",
       "1276152   10165736       A\n",
       "5699882   10165736       A\n",
       "6489837   10165736       A\n",
       "6987628   10165736       G\n",
       "7935397   10165736       G\n",
       "15065440  10165736       G\n",
       "16468120  10165736       A"
      ]
     },
     "execution_count": 45,
     "metadata": {},
     "output_type": "execute_result"
    }
   ],
   "source": [
    "ipcr[ipcr['patent_id']== '10165736']"
   ]
  },
  {
   "cell_type": "code",
   "execution_count": 46,
   "metadata": {},
   "outputs": [
    {
     "data": {
      "text/html": [
       "<div>\n",
       "<style scoped>\n",
       "    .dataframe tbody tr th:only-of-type {\n",
       "        vertical-align: middle;\n",
       "    }\n",
       "\n",
       "    .dataframe tbody tr th {\n",
       "        vertical-align: top;\n",
       "    }\n",
       "\n",
       "    .dataframe thead th {\n",
       "        text-align: right;\n",
       "    }\n",
       "</style>\n",
       "<table border=\"1\" class=\"dataframe\">\n",
       "  <thead>\n",
       "    <tr style=\"text-align: right;\">\n",
       "      <th></th>\n",
       "      <th>patent_id</th>\n",
       "      <th>section</th>\n",
       "    </tr>\n",
       "  </thead>\n",
       "  <tbody>\n",
       "    <tr>\n",
       "      <th>2436044</th>\n",
       "      <td>10172299</td>\n",
       "      <td>G</td>\n",
       "    </tr>\n",
       "    <tr>\n",
       "      <th>6948426</th>\n",
       "      <td>10172299</td>\n",
       "      <td>A</td>\n",
       "    </tr>\n",
       "    <tr>\n",
       "      <th>10329172</th>\n",
       "      <td>10172299</td>\n",
       "      <td>A</td>\n",
       "    </tr>\n",
       "    <tr>\n",
       "      <th>10983217</th>\n",
       "      <td>10172299</td>\n",
       "      <td>G</td>\n",
       "    </tr>\n",
       "    <tr>\n",
       "      <th>15026684</th>\n",
       "      <td>10172299</td>\n",
       "      <td>G</td>\n",
       "    </tr>\n",
       "    <tr>\n",
       "      <th>15503788</th>\n",
       "      <td>10172299</td>\n",
       "      <td>A</td>\n",
       "    </tr>\n",
       "    <tr>\n",
       "      <th>16051504</th>\n",
       "      <td>10172299</td>\n",
       "      <td>A</td>\n",
       "    </tr>\n",
       "  </tbody>\n",
       "</table>\n",
       "</div>"
      ],
      "text/plain": [
       "         patent_id section\n",
       "2436044   10172299       G\n",
       "6948426   10172299       A\n",
       "10329172  10172299       A\n",
       "10983217  10172299       G\n",
       "15026684  10172299       G\n",
       "15503788  10172299       A\n",
       "16051504  10172299       A"
      ]
     },
     "execution_count": 46,
     "metadata": {},
     "output_type": "execute_result"
    }
   ],
   "source": [
    "ipcr[ipcr['patent_id']== '10172299']"
   ]
  },
  {
   "cell_type": "code",
   "execution_count": 36,
   "metadata": {},
   "outputs": [
    {
     "data": {
      "text/html": [
       "<div>\n",
       "<style scoped>\n",
       "    .dataframe tbody tr th:only-of-type {\n",
       "        vertical-align: middle;\n",
       "    }\n",
       "\n",
       "    .dataframe tbody tr th {\n",
       "        vertical-align: top;\n",
       "    }\n",
       "\n",
       "    .dataframe thead th {\n",
       "        text-align: right;\n",
       "    }\n",
       "</style>\n",
       "<table border=\"1\" class=\"dataframe\">\n",
       "  <thead>\n",
       "    <tr style=\"text-align: right;\">\n",
       "      <th></th>\n",
       "      <th>text</th>\n",
       "      <th>label</th>\n",
       "    </tr>\n",
       "  </thead>\n",
       "  <tbody>\n",
       "    <tr>\n",
       "      <th>15</th>\n",
       "      <td>DETAILED DESCRIPTION\\n\\nIn accordance with the...</td>\n",
       "      <td>0</td>\n",
       "    </tr>\n",
       "    <tr>\n",
       "      <th>6532</th>\n",
       "      <td>DETAILED DESCRIPTION\\n\\nIn accordance with the...</td>\n",
       "      <td>6</td>\n",
       "    </tr>\n",
       "  </tbody>\n",
       "</table>\n",
       "</div>"
      ],
      "text/plain": [
       "                                                   text label\n",
       "15    DETAILED DESCRIPTION\\n\\nIn accordance with the...     0\n",
       "6532  DETAILED DESCRIPTION\\n\\nIn accordance with the...     6"
      ]
     },
     "execution_count": 36,
     "metadata": {},
     "output_type": "execute_result"
    }
   ],
   "source": [
    "df[df['text'] == df.loc[15]['text']]"
   ]
  },
  {
   "cell_type": "code",
   "execution_count": 40,
   "metadata": {},
   "outputs": [
    {
     "data": {
      "text/plain": [
       "\"DETAILED DESCRIPTION\\n\\nIn accordance with the present principles, systems and methods are provided to prevent frost damage to crops or other plants in an outdoor environment. The present principles are especially applicable to vineyards, berry farms, citrus farms and other commercial crops. Vineyards will be employed herein as an example. In one embodiment, a system dispenses water uniformly in accordance with conditions measured using environmental variables from a weather station and, in particular, related to air inversion phenomena, which can result in very low temperatures in vineyards in early spring. These conditions may be measured regionally and assume that data will be very similar across the whole region, e.g., over multiple farms, or derived by monitoring/forecasting weather; however, crop freeze may be dependent on very local conditions.\\n\\nThe systems and methods address frost potential in different ways. For example, the land can be irrigated a day ahead of a frost to trap heat in the soil that would be released during the frost period. Since local conditions may be estimated based on existing data, to account for inaccuracy of the data, over watering may be preferred to prevent damage. A local micro sprinkler system may be employed to disperse water on grapes, and a continuous water stream will prevent frost damage by providing continuous water to leaves/buds and maintaining the temperature of ice at about 27° F. The micro sprinkler system may include nozzles that act to provide water dispersion above the grapes to form snow to cover the grapes.\\n\\nIn one embodiment, a mobile sensing platform is employed that moves through a vineyard and measures the local temperature changes at different heights. An onboard processor can compute temperature profiles and estimate the likelihood for air inversion. The rate of cooling of the temperature is recorded in different locations that may indicate the speed by which the inversion may occur.\\n\\nThe platform can send a command to a central computer that can control and adjust the amount of water dispersed by a micro sprinkler system. Sprinkler heads of the micro sprinkler system can be addressed individually or in a group, and can be controlled to overcome the local adverse conditions in the weather. The platform may be equipped with cameras to obtain a visualization to generate a feed-back loop for optimization of the process. The system may include data acquisition and transmission of the data and a controlled variable rate sprinkler system to enable water spraying to prevent frost damage in a vineyard or orchard setting.\\n\\nThe sprinkler system may be employed to disperse water when the temperature is below the freezing point. When water freezes on the leaves of plants, heat is also released to the atmosphere. The sprinkler system provides water to be dispersed on ice to create a protective ice coating and maintain the temperature at a water-ice equilibrium point. The present sprinkler system can dispense water differentially based on the measurement of a rover and accounts for spatial variability instead of being based on a single weather data station measurement that forces uniform water dispensing.\\n\\nThe use of sprinklers can protect vines when temperatures fall to, e.g., −3.9° C. (25° F.), under certain conditions. Water from the sprinklers supplies heat to the vine-water-atmosphere system, and the heat is released as water cools to 0° C. (32° F.) and then freezes to ice. One factor to be considered in this situation is the heat of fusion (released as water freezes to ice). A gallon of water releases 300 kcal (1200 BTU) of heat as it freezes. Water also evaporates in the vine-water-atmosphere system. The evaporation of water causes a loss of 2300 kcal (9000 BTU) per gallon. Therefore, to maintain a positive heat balance, more water needs to freeze than to evaporate. This amount has been determined to be a factor of 7.5 units of water or more for every unit of water that evaporates. This, along with a buffer for the humidity of the air and wind speed (factors which can increase the evaporation rate) is a basis for the sprinkler application rate employed. An application rate may be between about 6.9 to about 8.2 hectare-millimeters (0.11 to 0.13 acre-inches) per hour or a pumping capacity of 470 liters per minute per hectare (50 gallons per minute per acre). Furthermore, use of snow generated by a distinct actuation of the sprinkler system may be more employed in certain air temperature stratification conditions.\\n\\nThe present invention may be a system, a method, and/or a computer program product. The computer program product may include a computer readable storage medium (or media) having computer readable program instructions thereon for causing a processor to carry out aspects of the present invention.\\n\\nThe computer readable storage medium can be a tangible device that can retain and store instructions for use by an instruction execution device. The computer readable storage medium may be, for example, but is not limited to, an electronic storage device, a magnetic storage device, an optical storage device, an electromagnetic storage device, a semiconductor storage device, or any suitable combination of the foregoing. A non-exhaustive list of more specific examples of the computer readable storage medium includes the following: a portable computer diskette, a hard disk, a random access memory (RAM), a read-only memory (ROM), an erasable programmable read-only memory (EPROM or Flash memory), a static random access memory (SRAM), a portable compact disc read-only memory (CD-ROM), a digital versatile disk (DVD), a memory stick, a floppy disk, a mechanically encoded device such as punch-cards or raised structures in a groove having instructions recorded thereon, and any suitable combination of the foregoing. A computer readable storage medium, as used herein, is not to be construed as being transitory signals per se, such as radio waves or other freely propagating electromagnetic waves, electromagnetic waves propagating through a waveguide or other transmission media (e.g., light pulses passing through a fiber-optic cable), or electrical signals transmitted through a wire.\\n\\nComputer readable program instructions described herein can be downloaded to respective computing/processing devices from a computer readable storage medium or to an external computer or external storage device via a network, for example, the Internet, a local area network, a wide area network and/or a wireless network. The network may comprise copper transmission cables, optical transmission fibers, wireless transmission, routers, firewalls, switches, gateway computers and/or edge servers. A network adapter card or network interface in each computing/processing device receives computer readable program instructions from the network and forwards the computer readable program instructions for storage in a computer readable storage medium within the respective computing/processing device.\\n\\nComputer readable program instructions for carrying out operations of the present invention may be assembler instructions, instruction-set-architecture (ISA) instructions, machine instructions, machine dependent instructions, microcode, firmware instructions, state-setting data, or either source code or object code written in any combination of one or more programming languages, including an object oriented programming language such as Smalltalk, C++ or the like, and conventional procedural programming languages, such as the “C” programming language or similar programming languages. The computer readable program instructions may execute entirely on the user's computer, partly on the user's computer, as a stand-alone software package, partly on the user's computer and partly on a remote computer or entirely on the remote computer or server. In the latter scenario, the remote computer may be connected to the user's computer through any type of network, including a local area network (LAN) or a wide area network (WAN), or the connection may be made to an external computer (for example, through the Internet using an Internet Service Provider). In some embodiments, electronic circuitry including, for example, programmable logic circuitry, field-programmable gate arrays (FPGA), or programmable logic arrays (PLA) may execute the computer readable program instructions by utilizing state information of the computer readable program instructions to personalize the electronic circuitry, in order to perform aspects of the present invention.\\n\\nAspects of the present invention are described herein with reference to flowchart illustrations and/or block diagrams of methods, apparatus (systems), and computer program products according to embodiments of the invention. It will be understood that each block of the flowchart illustrations and/or block diagrams, and combinations of blocks in the flowchart illustrations and/or block diagrams, can be implemented by computer readable program instructions.\\n\\nThese computer readable program instructions may be provided to a processor of a general purpose computer, special purpose computer, or other programmable data processing apparatus to produce a machine, such that the instructions, which execute via the processor of the computer or other programmable data processing apparatus, create means for implementing the functions/acts specified in the flowchart and/or block diagram block or blocks. These computer readable program instructions may also be stored in a computer readable storage medium that can direct a computer, a programmable data processing apparatus, and/or other devices to function in a particular manner, such that the computer readable storage medium having instructions stored therein comprises an article of manufacture including instructions which implement aspects of the function/act specified in the flowchart and/or block diagram block or blocks.\\n\\nThe computer readable program instructions may also be loaded onto a computer, other programmable data processing apparatus, or other device to cause a series of operational steps to be performed on the computer, other programmable apparatus or other device to produce a computer implemented process, such that the instructions which execute on the computer, other programmable apparatus, or other device implement the functions/acts specified in the flowchart and/or block diagram block or blocks.\\n\\nThe flowchart and block diagrams in the Figures illustrate the architecture, functionality, and operation of possible implementations of systems, methods, and computer program products according to various embodiments of the present invention. In this regard, each block in the flowchart or block diagrams may represent a module, segment, or portion of instructions, which comprises one or more executable instructions for implementing the specified logical function(s). In some alternative implementations, the functions noted in the blocks may occur out of the order noted in the figures. For example, two blocks shown in succession may, in fact, be executed substantially concurrently, or the blocks may sometimes be executed in the reverse order, depending upon the functionality involved. It will also be noted that each block of the block diagrams and/or flowchart illustration, and combinations of blocks in the block diagrams and/or flowchart illustration, can be implemented by special purpose hardware-based systems that perform the specified functions or acts or carry out combinations of special purpose hardware and computer instructions.\\n\\nIt will also be understood that when an element such as a layer, region or substrate is referred to as being “on” or “over” another element, it can be directly on the other element or intervening elements may also be present. In contrast, when an element is referred to as being “directly on” or “directly over” another element, there are no intervening elements present. It will also be understood that when an element is referred to as being “connected” or “coupled” to another element, it can be directly connected or coupled to the other element or intervening elements may be present. In contrast, when an element is referred to as being “directly connected” or “directly coupled” to another element, there are no intervening elements present.\\n\\nReference in the specification to “one embodiment” or “an embodiment” of the present principles, as well as other variations thereof, means that a particular feature, structure, characteristic, and so forth described in connection with the embodiment is included in at least one embodiment of the present principles. Thus, the appearances of the phrase “in one embodiment” or “in an embodiment”, as well any other variations, appearing in various places throughout the specification are not necessarily all referring to the same embodiment.\\n\\nIt is to be appreciated that the use of any of the following “/”, “and/or”, and “at least one of”, for example, in the cases of “A/B”, “A and/or B” and “at least one of A and B”, is intended to encompass the selection of the first listed option (A) only, or the selection of the second listed option (B) only, or the selection of both options (A and B). As a further example, in the cases of “A, B, and/or C” and “at least one of A, B, and C”, such phrasing is intended to encompass the selection of the first listed option (A) only, or the selection of the second listed option (B) only, or the selection of the third listed option (C) only, or the selection of the first and the second listed options (A and B) only, or the selection of the first and third listed options (A and C) only, or the selection of the second and third listed options (B and C) only, or the selection of all three options (A and B and C). This may be extended, as readily apparent by one of ordinary skill in this and related arts, for as many items listed.\\n\\nReferring now to the drawings in which like numerals represent the same or similar elements and initially toFIG. 1, a rover system10is depicted in accordance with one illustrative embodiment. The rover system10includes a rover12. The rover12may include a vehicle configured to traverse a field to measure the local environmental conditions. The rover12may be equipped to transmit a command to a central computer16and also has the ability to dispense water to prevent frost damage or irrigate plants.\\n\\nIn one embodiment, the rover12includes a base50having wheels42. The wheels42are configured for the terrain of a vineyard or other field. The rover12may include two wheels (with gyroscopic stabilization), three wheels, four wheels, etc. A propulsion system52is coupled to the wheels42to propel the rover around a field28. The propulsion system52may include a battery driven engine, an internal combustion engine, a solar powered engine, a wind powered engine or any other power source/engine. The rover12may be equipped with a localization system or navigation system54, e.g., a global positioning system (GPS), or can be equipped with a kinematic GPS connected either to a satellite or to a local receiver/transmission point that can be localized within, e.g., 1 foot distance. The navigation system54may be loaded on an onboard computer system18or may be a separate device or devices.\\n\\nThe navigation system54permits a sensing system to be realized, e.g., in a cognitive computing platform40, to know a position in a field at which measurements and water dispensing occurs. The navigation system54may include at least one of: a GPS sensing system, a dead reckoning system using encoders in the wheels42to track position from a known starting point and a radio direction sensing system that permits navigation relative to one or more fixed transmitters (e.g., in a central computer16or located at fixed positions in the field).\\n\\nThe cognitive platform40includes a program by which the user can direct the rover12to follow a desired route and time interval of travel through the field. This may include at least one of: manually guiding the rover12through the field and recording the path for future use, a list of sequential GPS or radio location points to follow and a desired time interval between location points and a desired speed of travel. The cognitive computing platform40further employs the navigation system54to estimate the condition of the field in three spatial dimensions based on the travel history of the rover12and an altitude of sensor measurements, as will be described.\\n\\nThe program of the cognitive computing platform40further estimates the time variation of the above multidimensional measurements (temperature, humidity, dew point, wind speed, etc.) and provides estimates of future field conditions, and further utilizes the physical measurements to estimate state variables of the field including but not limited to plant saturation, energy content, water loss rate, etc. These and other factors may be applied to water dispensing computations calculated by the cognitive platform40(in computer system16or18).\\n\\nThe rover12includes a power source14that may include a battery, solar cell, wind turbine, internal combustion engine, electric engine, etc. A tower48is coupled to the base50and extends over the base50in operational scenarios. The tower48may be retractable (extendable) for easy storage or to protect the rover12under inclement weather conditions. The height of the tower48may be adjusted to permit measurements at different heights for a given set of conditions. The height of the tower48can be as high (or higher) the trees/plants being protected or cared for. A plurality of sensors22is set on the tower48and/or the base50and are configured to sense environmental conditions around the rover12at different elevations. The rover12may be manually controlled and may be part of a known vehicle, such as a truck, tractor, pull cart, etc. The rover12may be self-propelled and may be remotely controlled or self-controlled.\\n\\nIn one embodiment, the central computer16controls the rover12and its operations. The central computer16includes a processor15and memory17. The memory17is configured to receive measured data from the plurality of sensors22and an imaging device24and determine an amount and manner of water to be dispensed on plant life in the field. The rover12records local information with a very high spatial granularity and provides feedback to the system (16and/or18) to take action on the recorded local information.\\n\\nIn another embodiment, the rover12may include the onboard computer system18to control the movement and operations of the rover12. The computer system18includes a processor19and memory21. The computers16and18may share or distribute functions between them. In some embodiments, only the computer18is employed and in other embodiments only the computer16is employed. The functions and capabilities of the computers may be interchangeable. The computers16and18may include peripherals, displays, interfaces (mouse, keyboard, etc.), etc. to enable human interactions with the systems.\\n\\nThe rover12may include a reservoir20for carrying water and/or a solution that may prevent water freezing. Alternately, the reservoir20may be replaced by a supply hose that provides water to the reservoir/rover as needed. In other embodiments, water is supplied by a sprinkler system34, which can be an in-ground sprinkler or drip system or be an above-ground sprinkler or drip system. The sprinkler system34is controlled based on the rover12or feedback from the rover12.\\n\\nThe rover12preferably includes an autonomous mobile platform, but may include a vehicle mountable platform that can be conveyed on a, e.g., a truck driven by a farmer, etc. The rover12is equipped with environmental sensors22and the imaging device24. The sensors22may include a plurality of different sensor types to measure, for example, temperature, relative humidity, dew point, wind velocity at different heights above a ground28to assess air inversion and local conditions at the rover12.\\n\\nThe computer system18of the rover12includes one or more programs30that can determine, based on local measurements, when air inversion is appearing or disappearing. The program30may employ the temperatures sensed at different heights by the sensors22to determine when and if water should be dispended from sprinkler systems32provided on the rover12or form sprinklers34on or over the ground28. In other embodiments, the sprinklers system32may be located off the rover12and may be made responsive to signals generated by the rover12, e.g., acoustic signals made by the rover12, or by the computer16,18using rover feedback. The program30can consider (as feedback) humidity, dew point, wind velocity, visual conditions (as determined by the imaging device24), e.g., fog, snow, rain, frost formation, etc.\\n\\nIn one scenario, if the farm is in an area with large topographical changes, cold air may accumulate in a depression more than on a top of a hill, and the cold temperature may stay for a longer period in such a depression. The rover12will measure these changes and send the data to the computer system18or send the data to the central computer16. The central computer16(or the computer system18) may control a variable rate irrigation system34in the vineyard. The irrigation system34in the vineyard irrigates using micro sprinklers36. When potential for local frost damage occurs, the irrigation system34can be turned on to protect the crops. A time response to the treatment can be monitored by the imaging device24and the information can be part of a feed-back loop with the cognitive computing platform40on the central computer16for optimizing the protection or irrigation process. The cognitive computing platform40may be stored on one or more of the computing systems16and/or18.\\n\\nThe cognitive computing platform40may provide control of the irrigation system34, portions of the irrigation system36, control the speed of the rover12through the vineyard, control the data rate for sensor data collection, adjust the height at which measurements are acquired, run special checks at particular locations (which may be monitored using the imaging device24, global positioning data, or other location monitoring system), etc. The cognitive computing platform40can evaluate the amount of water delivered to an area using the imaging device24or a probe44to test the ground saturation at one or more depth. The ground probe measures soil water saturation and can measure soil temperature. The amount of water provided may be based on the sensor measurements, historic data, elevation measurements (e.g., air inversion conditions), etc.\\n\\nIn one embodiment, the system10may include a differential irrigation system (34) with comprehensive communication links to receive commands or real time data information from the rover12as the rover12moves along pre-programmed paths in the vineyard or orchard.\\n\\nThe system10may perform the following tasks. The rover12measures temperature, wind speed, dew point, and relative humidity to determine the needed water to be supplied by the sprinkler system34. The water may be supplied in different ways/manners (e.g., over the plants, to the ground directly, as snow, as rain, in bursts, steady stream, etc.), at different locations in different amounts in accordance with the measured information by the rover12. The rover12can determine command signals for the sprinkler system(s)32and/or34to provide the appropriate protection or irrigation, as needed. The settings and commands may be determined by the computing system18or central computing system16. The computing system (16or18) can store position based criteria for delivery of water. For example, depending on the time of year, amount of recent rainfall, water table height, position in the vineyard, temperature, humidity, dew point, historic data, etc., an amount of water, a time of delivery (e.g., during the day or night), delivery type, duration, etc. is locally provided.\\n\\nThe rover12monitors if enough water is supplied such that everything is saturated, partially saturated, etc. with flowing water. This can be implemented by the imaging device24or by a retractable probe44on the rover12to determine the saturation in the ground28. The rover12can make periodic inspections to determine when it is time to stop the irrigation, and evaluate the results of the treatment via the imaging device24. The imaging device24may view color or other criteria to determine whether sufficient water has been applied to protect from frost or to irrigate the crops. The imaging device24may be employed automatically by the computing system (16or18) or may be viewed by a user to determine sufficient watering. In one embodiment, the images generated by the imaging device24may be employed as a feed-back to the cognitive computing platform40to evaluate saturation, frost, etc. The cognitive computing platform40can evaluate color, plant state, etc. using recognition software, comparison templates, or other image processing techniques. The rover12can receive instructions from the system16or18to move to a new location and to assess whether frost prevention steps are still needed.\\n\\nAll data from the rover12may be saved onboard (in the computing system18) and/or delivered to the central computing system16. The differential irrigation system34may be actuated by servers (e.g., central computing system16) to disperse the water using sprinklers36of the variable rate irrigation system34that can be turned on/off on demand based on the local environment as measured by the rover12.\\n\\nIn one embodiment, the rover12acts as a mobile measurement platform that acquires high resolution environmental parameters as it moves along a predefined path in an orchard or field. Data is transmitted to the system16(or system18) that actuates the variable rate sprinkler system34to saturate soil with water a day or two ahead of the expected frost time. This may be based on forecasts of impending cold weather or weather changes sensed locally by the rover12. The rovers12may monitor heat convection from the moist soil during frost time using a heat sensor46. The rover12can provide feedback to the micro sprinkler system or systems32or to the sprinkler system34to water buds and leaves to maintain flowing water across the ice that encapsulates the buds. Furthermore, the rover12can provide images to the cognitive computing platform40for an optimization feed-back loop to decide how much water is needed locally.\\n\\nThe sprinkler systems32or34can dispense water on a canopy of vines based on visual images acquired by the rover12. The sprinkler systems32and/or34may include a linear water-pressure response with higher pressure resulting in higher water dispensing rates. The sprinkler systems32and/or34can be actuated such that they produce snow when directed by the air stratification conditions assessed by the rover12and advised by the cognitive computing platform40in communication with the rover12.\\n\\nReferring toFIG. 2, a sprinkler system100is shown in accordance with one embodiment. The sprinkler system100includes a plurality of heads106in a pipe or tube120. In one embodiment, each head106includes an actuation frequency that may be the same or different from the other heads in the system100. The heads106are actuated by an acoustic signal or signals. In one embodiment, two speakers102and104are tuned at different frequencies. In one embodiment, some heads (a first group)106are activated when the speaker102creates an acoustic wave at a first frequency114. In another embodiment, some heads106(a second group, the same or different heads106as the first group) may be activated when the speaker104creates an acoustic wave at a second frequency116. In other embodiments, a standing wave109produced when both speakers102and104are active may set off a third group of sprinkler heads106, which may include one or more of the other heads in other groups.\\n\\nIn one embodiment, as depicted in exploded view115, the heads106may include a spring-loaded valve112that acts as a spring mass system and oscillates in accordance with particular frequencies (resonance frequency). The valve112is normally closed, but at the resonance frequency (or other frequency(s), the mass oscillates to release water.\\n\\nIn another embodiment, depicted in exploded view117, a microphone108may receive the frequency for which it is to be activated, and an actuator110is activated and opens the spring-loaded valve112for that head106so that water can be dispensed at a location of interest. When the frequency ceases, the valve112is closed by the actuator110. The rover12may generate the frequencies using a horn or speaker26(FIG. 1) needed to actuate the heads106as well. In this way, localized sprinkler actuation may be achieved. The actuators110and microphones108in this embodiment may employ a power source, e.g., electrical leads coupled to an AC or DC source (not shown). Other dispensing methods may also be employed to provide area controlled or individually controlled heads106.\\n\\nIn one embodiment, the shut-off frequency of the heads106is different from the turn-on frequency. In this way, data from the rover12can be employed to actuate a dispenser which feeds the system100and rover measurements close to the sprinkler location can determine the length of irrigation. The rover12can provide a turn-off frequency to shut down the heads106of the system100when enough water has been dispensed. Determining the time when to start the sprinklers and when to shut them off is based on local measurements within the vineyard. For example, the determination of the amount of water is decided based on images, environmental conditions, measurements, etc. from the rover12, e.g., controlling the rate of water dispensing such that water covers all buds in an image, etc.\\n\\nIn one embodiment, the rover12moves along fruit tree lines and measures temperature, relative humidity, etc. while imaging buds and water flow across them. The measurements may be taken at the base level, intermediary level and tree top level of the trees. Different settings for the irrigation system may be employed based on the elevation. For example, water may be needed at the tops of the trees but not at the bottom in frost conditions. The irrigation system can be used for irrigation or used to prevent frost damage. The system10(computing system18or16) controls the sprinkle nozzles to minimize frost damage. Each sprinkler/nozzle may have its own resonance frequency (or other control) and at ends of the pipe120, two speakers102,104can generate an acoustic wave in the pipe108. Two standing waves114and116can be created at different frequencies that can be superposed to form a third wave109such that each sprinkler/dripper can be excited at its own frequency and at its location by adjusting frequency and/or amplitude of each generated wave. Additional frequencies may also be generated to actuate a larger number of sprinklers of sprinkler groups.\\n\\nSystems16or18can receive input from the rover12about which spatial area needs to be irrigated more or less, and the central server16can actuate irrigation in a well-defined segment of the irrigation line.\\n\\nReferring toFIG. 3, a method for dispensing water for crops is shown in accordance with illustrative embodiments. In block202, a field is traversed by a self-propelled rover. The rover includes a tower coupled to a base and extends over the base. A plurality of sensors is set on the tower and the base to sense environmental conditions around the rover at different elevations and at different locations in the field. The rover collects hyper-local information in the field to ensure that the plants/vines are protected from frost and/or properly waters, depending on the season and conditions.\\n\\nThe rover can be relocated to the different locations in the field in accordance with computer control (navigation system, etc.) to map the environmental conditions for the different elevations and at the different locations in the field. The rover may also be equipped with a preprogrammed route that is followed through the field.\\n\\nIn block204, the environmental conditions are measured using the plurality of sensors on the rover at the different elevations and at the different locations in the field. These measurements can include humidity, temperature, sun angle, dew point, solar radiation strength, wind velocity and direction, etc.\\n\\nIn block206, local measurement data is evaluated to determine an amount and manner for disbursement of water under the environmental conditions for the different elevations and at the different locations in the field. The amount may be determined based upon current frost conditions, e.g., too much water will weigh down branches, etc., but a sufficient amount is needed to balance trapping energy versus loss due to evaporation. The icing of plant life versus bowing under the weight of ice can be visually evaluated by the cognitive computing platform using visual feedback from the imaging device(s).\\n\\nIn one embodiment, evaluation of the local measurement data includes employing the cognitive computing platform to determine a water delivery rate and a disbursement type to protect plant life from frost damage or irrigate the plant life. For example, a type determined may be made to use overhead sprinklers to generate snow rather than applying liquid water to the plants or misting versing sprinkling, etc. Another manner/type may include the rate and amount at which the water in delivered. This may be determined by the cognitive computing platform based on many present conditions/other data as well and past or forecasted conditions. Other data may include one or more of historic weather data, seasonal data, forecasted weather, etc. The water may be dispensed in one single time block if the temperature is close to the freezing point or it can be a dispensed in small bursts to assure no freezing occurs.\\n\\nIn block208, the water is delivered until goal conditions are met. Goal conditions may include an amount of saturation, an ice coating that doesn't stress the branches of plants, etc. The water delivery may include activating a sprinkler system locally and monitoring the water on the plant life using at least one of an imaging system and/or a ground probe. The delivering of the water may include using individually controlled sprinkler sections or individually controlled heads. In one embodiment, the heads are acoustically activated sprinkler heads disposed locally throughout the field.\\n\\nThis process may be iterated to maintain conditions in a field or to further monitor the conditions for changes. The rover may also be employed for other purposes. For example, scaring off animals that might damage the crops, etc.\\n\\nHaving described preferred embodiments autonomous mobile platform and variable rate irrigation method for preventing frost damage (which are intended to be illustrative and not limiting), it is noted that modifications and variations can be made by persons skilled in the art in light of the above teachings. It is therefore to be understood that changes may be made in the particular embodiments disclosed which are within the scope of the invention as outlined by the appended claims. Having thus described aspects of the invention, with the details and particularity required by the patent laws, what is claimed and desired protected by Letters Patent is set forth in the appended claims.\\n\\n\""
      ]
     },
     "execution_count": 40,
     "metadata": {},
     "output_type": "execute_result"
    }
   ],
   "source": [
    "df.loc[15]['text']"
   ]
  },
  {
   "cell_type": "code",
   "execution_count": 39,
   "metadata": {},
   "outputs": [
    {
     "data": {
      "text/plain": [
       "\"DETAILED DESCRIPTION\\n\\nIn accordance with the present principles, systems and methods are provided to prevent frost damage to crops or other plants in an outdoor environment. The present principles are especially applicable to vineyards, berry farms, citrus farms and other commercial crops. Vineyards will be employed herein as an example. In one embodiment, a system dispenses water uniformly in accordance with conditions measured using environmental variables from a weather station and, in particular, related to air inversion phenomena, which can result in very low temperatures in vineyards in early spring. These conditions may be measured regionally and assume that data will be very similar across the whole region, e.g., over multiple farms, or derived by monitoring/forecasting weather; however, crop freeze may be dependent on very local conditions.\\n\\nThe systems and methods address frost potential in different ways. For example, the land can be irrigated a day ahead of a frost to trap heat in the soil that would be released during the frost period. Since local conditions may be estimated based on existing data, to account for inaccuracy of the data, over watering may be preferred to prevent damage. A local micro sprinkler system may be employed to disperse water on grapes, and a continuous water stream will prevent frost damage by providing continuous water to leaves/buds and maintaining the temperature of ice at about 27° F. The micro sprinkler system may include nozzles that act to provide water dispersion above the grapes to form snow to cover the grapes.\\n\\nIn one embodiment, a mobile sensing platform is employed that moves through a vineyard and measures the local temperature changes at different heights. An onboard processor can compute temperature profiles and estimate the likelihood for air inversion. The rate of cooling of the temperature is recorded in different locations that may indicate the speed by which the inversion may occur.\\n\\nThe platform can send a command to a central computer that can control and adjust the amount of water dispersed by a micro sprinkler system. Sprinkler heads of the micro sprinkler system can be addressed individually or in a group, and can be controlled to overcome the local adverse conditions in the weather. The platform may be equipped with cameras to obtain a visualization to generate a feed-back loop for optimization of the process. The system may include data acquisition and transmission of the data and a controlled variable rate sprinkler system to enable water spraying to prevent frost damage in a vineyard or orchard setting.\\n\\nThe sprinkler system may be employed to disperse water when the temperature is below the freezing point. When water freezes on the leaves of plants, heat is also released to the atmosphere. The sprinkler system provides water to be dispersed on ice to create a protective ice coating and maintain the temperature at a water-ice equilibrium point. The present sprinkler system can dispense water differentially based on the measurement of a rover and accounts for spatial variability instead of being based on a single weather data station measurement that forces uniform water dispensing.\\n\\nThe use of sprinklers can protect vines when temperatures fall to, e.g., −3.9° C. (25° F.), under certain conditions. Water from the sprinklers supplies heat to the vine-water-atmosphere system, and the heat is released as water cools to 0° C. (32° F.) and then freezes to ice. One factor to be considered in this situation is the heat of fusion (released as water freezes to ice). A gallon of water releases 300 kcal (1200 BTU) of heat as it freezes. Water also evaporates in the vine-water-atmosphere system. The evaporation of water causes a loss of 2300 kcal (9000 BTU) per gallon. Therefore, to maintain a positive heat balance, more water needs to freeze than to evaporate. This amount has been determined to be a factor of 7.5 units of water or more for every unit of water that evaporates. This, along with a buffer for the humidity of the air and wind speed (factors which can increase the evaporation rate) is a basis for the sprinkler application rate employed. An application rate may be between about 6.9 to about 8.2 hectare-millimeters (0.11 to 0.13 acre-inches) per hour or a pumping capacity of 470 liters per minute per hectare (50 gallons per minute per acre). Furthermore, use of snow generated by a distinct actuation of the sprinkler system may be more employed in certain air temperature stratification conditions.\\n\\nThe present invention may be a system, a method, and/or a computer program product. The computer program product may include a computer readable storage medium (or media) having computer readable program instructions thereon for causing a processor to carry out aspects of the present invention.\\n\\nThe computer readable storage medium can be a tangible device that can retain and store instructions for use by an instruction execution device. The computer readable storage medium may be, for example, but is not limited to, an electronic storage device, a magnetic storage device, an optical storage device, an electromagnetic storage device, a semiconductor storage device, or any suitable combination of the foregoing. A non-exhaustive list of more specific examples of the computer readable storage medium includes the following: a portable computer diskette, a hard disk, a random access memory (RAM), a read-only memory (ROM), an erasable programmable read-only memory (EPROM or Flash memory), a static random access memory (SRAM), a portable compact disc read-only memory (CD-ROM), a digital versatile disk (DVD), a memory stick, a floppy disk, a mechanically encoded device such as punch-cards or raised structures in a groove having instructions recorded thereon, and any suitable combination of the foregoing. A computer readable storage medium, as used herein, is not to be construed as being transitory signals per se, such as radio waves or other freely propagating electromagnetic waves, electromagnetic waves propagating through a waveguide or other transmission media (e.g., light pulses passing through a fiber-optic cable), or electrical signals transmitted through a wire.\\n\\nComputer readable program instructions described herein can be downloaded to respective computing/processing devices from a computer readable storage medium or to an external computer or external storage device via a network, for example, the Internet, a local area network, a wide area network and/or a wireless network. The network may comprise copper transmission cables, optical transmission fibers, wireless transmission, routers, firewalls, switches, gateway computers and/or edge servers. A network adapter card or network interface in each computing/processing device receives computer readable program instructions from the network and forwards the computer readable program instructions for storage in a computer readable storage medium within the respective computing/processing device.\\n\\nComputer readable program instructions for carrying out operations of the present invention may be assembler instructions, instruction-set-architecture (ISA) instructions, machine instructions, machine dependent instructions, microcode, firmware instructions, state-setting data, or either source code or object code written in any combination of one or more programming languages, including an object oriented programming language such as Smalltalk, C++ or the like, and conventional procedural programming languages, such as the “C” programming language or similar programming languages. The computer readable program instructions may execute entirely on the user's computer, partly on the user's computer, as a stand-alone software package, partly on the user's computer and partly on a remote computer or entirely on the remote computer or server. In the latter scenario, the remote computer may be connected to the user's computer through any type of network, including a local area network (LAN) or a wide area network (WAN), or the connection may be made to an external computer (for example, through the Internet using an Internet Service Provider). In some embodiments, electronic circuitry including, for example, programmable logic circuitry, field-programmable gate arrays (FPGA), or programmable logic arrays (PLA) may execute the computer readable program instructions by utilizing state information of the computer readable program instructions to personalize the electronic circuitry, in order to perform aspects of the present invention.\\n\\nAspects of the present invention are described herein with reference to flowchart illustrations and/or block diagrams of methods, apparatus (systems), and computer program products according to embodiments of the invention. It will be understood that each block of the flowchart illustrations and/or block diagrams, and combinations of blocks in the flowchart illustrations and/or block diagrams, can be implemented by computer readable program instructions.\\n\\nThese computer readable program instructions may be provided to a processor of a general purpose computer, special purpose computer, or other programmable data processing apparatus to produce a machine, such that the instructions, which execute via the processor of the computer or other programmable data processing apparatus, create means for implementing the functions/acts specified in the flowchart and/or block diagram block or blocks. These computer readable program instructions may also be stored in a computer readable storage medium that can direct a computer, a programmable data processing apparatus, and/or other devices to function in a particular manner, such that the computer readable storage medium having instructions stored therein comprises an article of manufacture including instructions which implement aspects of the function/act specified in the flowchart and/or block diagram block or blocks.\\n\\nThe computer readable program instructions may also be loaded onto a computer, other programmable data processing apparatus, or other device to cause a series of operational steps to be performed on the computer, other programmable apparatus or other device to produce a computer implemented process, such that the instructions which execute on the computer, other programmable apparatus, or other device implement the functions/acts specified in the flowchart and/or block diagram block or blocks.\\n\\nThe flowchart and block diagrams in the Figures illustrate the architecture, functionality, and operation of possible implementations of systems, methods, and computer program products according to various embodiments of the present invention. In this regard, each block in the flowchart or block diagrams may represent a module, segment, or portion of instructions, which comprises one or more executable instructions for implementing the specified logical function(s). In some alternative implementations, the functions noted in the blocks may occur out of the order noted in the figures. For example, two blocks shown in succession may, in fact, be executed substantially concurrently, or the blocks may sometimes be executed in the reverse order, depending upon the functionality involved. It will also be noted that each block of the block diagrams and/or flowchart illustration, and combinations of blocks in the block diagrams and/or flowchart illustration, can be implemented by special purpose hardware-based systems that perform the specified functions or acts or carry out combinations of special purpose hardware and computer instructions.\\n\\nIt will also be understood that when an element such as a layer, region or substrate is referred to as being “on” or “over” another element, it can be directly on the other element or intervening elements may also be present. In contrast, when an element is referred to as being “directly on” or “directly over” another element, there are no intervening elements present. It will also be understood that when an element is referred to as being “connected” or “coupled” to another element, it can be directly connected or coupled to the other element or intervening elements may be present. In contrast, when an element is referred to as being “directly connected” or “directly coupled” to another element, there are no intervening elements present.\\n\\nReference in the specification to “one embodiment” or “an embodiment” of the present principles, as well as other variations thereof, means that a particular feature, structure, characteristic, and so forth described in connection with the embodiment is included in at least one embodiment of the present principles. Thus, the appearances of the phrase “in one embodiment” or “in an embodiment”, as well any other variations, appearing in various places throughout the specification are not necessarily all referring to the same embodiment.\\n\\nIt is to be appreciated that the use of any of the following “/”, “and/or”, and “at least one of”, for example, in the cases of “A/B”, “A and/or B” and “at least one of A and B”, is intended to encompass the selection of the first listed option (A) only, or the selection of the second listed option (B) only, or the selection of both options (A and B). As a further example, in the cases of “A, B, and/or C” and “at least one of A, B, and C”, such phrasing is intended to encompass the selection of the first listed option (A) only, or the selection of the second listed option (B) only, or the selection of the third listed option (C) only, or the selection of the first and the second listed options (A and B) only, or the selection of the first and third listed options (A and C) only, or the selection of the second and third listed options (B and C) only, or the selection of all three options (A and B and C). This may be extended, as readily apparent by one of ordinary skill in this and related arts, for as many items listed.\\n\\nReferring now to the drawings in which like numerals represent the same or similar elements and initially toFIG. 1, a rover system10is depicted in accordance with one illustrative embodiment. The rover system10includes a rover12. The rover12may include a vehicle configured to traverse a field to measure the local environmental conditions. The rover12may be equipped to transmit a command to a central computer16and also has the ability to dispense water to prevent frost damage or irrigate plants.\\n\\nIn one embodiment, the rover12includes a base50having wheels42. The wheels42are configured for the terrain of a vineyard or other field. The rover12may include two wheels (with gyroscopic stabilization), three wheels, four wheels, etc. A propulsion system52is coupled to the wheels42to propel the rover around a field28. The propulsion system52may include a battery driven engine, an internal combustion engine, a solar powered engine, a wind powered engine or any other power source/engine. The rover12may be equipped with a localization system or navigation system54, e.g., a global positioning system (GPS), or can be equipped with a kinematic GPS connected either to a satellite or to a local receiver/transmission point that can be localized within, e.g., 1 foot distance. The navigation system54may be loaded on an onboard computer system18or may be a separate device or devices.\\n\\nThe navigation system54permits a sensing system to be realized, e.g., in a cognitive computing platform40, to know a position in a field at which measurements and water dispensing occurs. The navigation system54may include at least one of: a GPS sensing system, a dead reckoning system using encoders in the wheels42to track position from a known starting point and a radio direction sensing system that permits navigation relative to one or more fixed transmitters (e.g., in a central computer16or located at fixed positions in the field).\\n\\nThe cognitive platform40includes a program by which the user can direct the rover12to follow a desired route and time interval of travel through the field. This may include at least one of: manually guiding the rover12through the field and recording the path for future use, a list of sequential GPS or radio location points to follow and a desired time interval between location points and a desired speed of travel. The cognitive computing platform40further employs the navigation system54to estimate the condition of the field in three spatial dimensions based on the travel history of the rover12and an altitude of sensor measurements, as will be described.\\n\\nThe program of the cognitive computing platform40further estimates the time variation of the above multidimensional measurements (temperature, humidity, dew point, wind speed, etc.) and provides estimates of future field conditions, and further utilizes the physical measurements to estimate state variables of the field including but not limited to plant saturation, energy content, water loss rate, etc. These and other factors may be applied to water dispensing computations calculated by the cognitive platform40(in computer system16or18).\\n\\nThe rover12includes a power source14that may include a battery, solar cell, wind turbine, internal combustion engine, electric engine, etc. A tower48is coupled to the base50and extends over the base50in operational scenarios. The tower48may be retractable (extendable) for easy storage or to protect the rover12under inclement weather conditions. The height of the tower48may be adjusted to permit measurements at different heights for a given set of conditions. The height of the tower48can be as high (or higher) the trees/plants being protected or cared for. A plurality of sensors22is set on the tower48and/or the base50and are configured to sense environmental conditions around the rover12at different elevations. The rover12may be manually controlled and may be part of a known vehicle, such as a truck, tractor, pull cart, etc. The rover12may be self-propelled and may be remotely controlled or self-controlled.\\n\\nIn one embodiment, the central computer16controls the rover12and its operations. The central computer16includes a processor15and memory17. The memory17is configured to receive measured data from the plurality of sensors22and an imaging device24and determine an amount and manner of water to be dispensed on plant life in the field. The rover12records local information with a very high spatial granularity and provides feedback to the system (16and/or18) to take action on the recorded local information.\\n\\nIn another embodiment, the rover12may include the onboard computer system18to control the movement and operations of the rover12. The computer system18includes a processor19and memory21. The computers16and18may share or distribute functions between them. In some embodiments, only the computer18is employed and in other embodiments only the computer16is employed. The functions and capabilities of the computers may be interchangeable. The computers16and18may include peripherals, displays, interfaces (mouse, keyboard, etc.), etc. to enable human interactions with the systems.\\n\\nThe rover12may include a reservoir20for carrying water and/or a solution that may prevent water freezing. Alternately, the reservoir20may be replaced by a supply hose that provides water to the reservoir/rover as needed. In other embodiments, water is supplied by a sprinkler system34, which can be an in-ground sprinkler or drip system or be an above-ground sprinkler or drip system. The sprinkler system34is controlled based on the rover12or feedback from the rover12.\\n\\nThe rover12preferably includes an autonomous mobile platform, but may include a vehicle mountable platform that can be conveyed on a, e.g., a truck driven by a farmer, etc. The rover12is equipped with environmental sensors22and the imaging device24. The sensors22may include a plurality of different sensor types to measure, for example, temperature, relative humidity, dew point, wind velocity at different heights above a ground28to assess air inversion and local conditions at the rover12.\\n\\nThe computer system18of the rover12includes one or more programs30that can determine, based on local measurements, when air inversion is appearing or disappearing. The program30may employ the temperatures sensed at different heights by the sensors22to determine when and if water should be dispended from sprinkler systems32provided on the rover12or form sprinklers34on or over the ground28. In other embodiments, the sprinklers system32may be located off the rover12and may be made responsive to signals generated by the rover12, e.g., acoustic signals made by the rover12, or by the computer16,18using rover feedback. The program30can consider (as feedback) humidity, dew point, wind velocity, visual conditions (as determined by the imaging device24), e.g., fog, snow, rain, frost formation, etc.\\n\\nIn one scenario, if the farm is in an area with large topographical changes, cold air may accumulate in a depression more than on a top of a hill, and the cold temperature may stay for a longer period in such a depression. The rover12will measure these changes and send the data to the computer system18or send the data to the central computer16. The central computer16(or the computer system18) may control a variable rate irrigation system34in the vineyard. The irrigation system34in the vineyard irrigates using micro sprinklers36. When potential for local frost damage occurs, the irrigation system34can be turned on to protect the crops. A time response to the treatment can be monitored by the imaging device24and the information can be part of a feed-back loop with the cognitive computing platform40on the central computer16for optimizing the protection or irrigation process. The cognitive computing platform40may be stored on one or more of the computing systems16and/or18.\\n\\nThe cognitive computing platform40may provide control of the irrigation system34, portions of the irrigation system36, control the speed of the rover12through the vineyard, control the data rate for sensor data collection, adjust the height at which measurements are acquired, run special checks at particular locations (which may be monitored using the imaging device24, global positioning data, or other location monitoring system), etc. The cognitive computing platform40can evaluate the amount of water delivered to an area using the imaging device24or a probe44to test the ground saturation at one or more depth. The ground probe measures soil water saturation and can measure soil temperature. The amount of water provided may be based on the sensor measurements, historic data, elevation measurements (e.g., air inversion conditions), etc.\\n\\nIn one embodiment, the system10may include a differential irrigation system (34) with comprehensive communication links to receive commands or real time data information from the rover12as the rover12moves along pre-programmed paths in the vineyard or orchard.\\n\\nThe system10may perform the following tasks. The rover12measures temperature, wind speed, dew point, and relative humidity to determine the needed water to be supplied by the sprinkler system34. The water may be supplied in different ways/manners (e.g., over the plants, to the ground directly, as snow, as rain, in bursts, steady stream, etc.), at different locations in different amounts in accordance with the measured information by the rover12. The rover12can determine command signals for the sprinkler system(s)32and/or34to provide the appropriate protection or irrigation, as needed. The settings and commands may be determined by the computing system18or central computing system16. The computing system (16or18) can store position based criteria for delivery of water. For example, depending on the time of year, amount of recent rainfall, water table height, position in the vineyard, temperature, humidity, dew point, historic data, etc., an amount of water, a time of delivery (e.g., during the day or night), delivery type, duration, etc. is locally provided.\\n\\nThe rover12monitors if enough water is supplied such that everything is saturated, partially saturated, etc. with flowing water. This can be implemented by the imaging device24or by a retractable probe44on the rover12to determine the saturation in the ground28. The rover12can make periodic inspections to determine when it is time to stop the irrigation, and evaluate the results of the treatment via the imaging device24. The imaging device24may view color or other criteria to determine whether sufficient water has been applied to protect from frost or to irrigate the crops. The imaging device24may be employed automatically by the computing system (16or18) or may be viewed by a user to determine sufficient watering. In one embodiment, the images generated by the imaging device24may be employed as a feed-back to the cognitive computing platform40to evaluate saturation, frost, etc. The cognitive computing platform40can evaluate color, plant state, etc. using recognition software, comparison templates, or other image processing techniques. The rover12can receive instructions from the system16or18to move to a new location and to assess whether frost prevention steps are still needed.\\n\\nAll data from the rover12may be saved onboard (in the computing system18) and/or delivered to the central computing system16. The differential irrigation system34may be actuated by servers (e.g., central computing system16) to disperse the water using sprinklers36of the variable rate irrigation system34that can be turned on/off on demand based on the local environment as measured by the rover12.\\n\\nIn one embodiment, the rover12acts as a mobile measurement platform that acquires high resolution environmental parameters as it moves along a predefined path in an orchard or field. Data is transmitted to the system16(or system18) that actuates the variable rate sprinkler system34to saturate soil with water a day or two ahead of the expected frost time. This may be based on forecasts of impending cold weather or weather changes sensed locally by the rover12. The rovers12may monitor heat convection from the moist soil during frost time using a heat sensor46. The rover12can provide feedback to the micro sprinkler system or systems32or to the sprinkler system34to water buds and leaves to maintain flowing water across the ice that encapsulates the buds. Furthermore, the rover12can provide images to the cognitive computing platform40for an optimization feed-back loop to decide how much water is needed locally.\\n\\nThe sprinkler systems32or34can dispense water on a canopy of vines based on visual images acquired by the rover12. The sprinkler systems32and/or34may include a linear water-pressure response with higher pressure resulting in higher water dispensing rates. The sprinkler systems32and/or34can be actuated such that they produce snow when directed by the air stratification conditions assessed by the rover12and advised by the cognitive computing platform40in communication with the rover12.\\n\\nReferring toFIG. 2, a sprinkler system100is shown in accordance with one embodiment. The sprinkler system100includes a plurality of heads106in a pipe or tube120. In one embodiment, each head106includes an actuation frequency that may be the same or different from the other heads in the system100. The heads106are actuated by an acoustic signal or signals. In one embodiment, two speakers102and104are tuned at different frequencies. In one embodiment, some heads (a first group)106are activated when the speaker102creates an acoustic wave at a first frequency114. In another embodiment, some heads106(a second group, the same or different heads106as the first group) may be activated when the speaker104creates an acoustic wave at a second frequency116. In other embodiments, a standing wave109produced when both speakers102and104are active may set off a third group of sprinkler heads106, which may include one or more of the other heads in other groups.\\n\\nIn one embodiment, as depicted in exploded view115, the heads106may include a spring-loaded valve112that acts as a spring mass system and oscillates in accordance with particular frequencies (resonance frequency). The valve112is normally closed, but at the resonance frequency (or other frequency(s), the mass oscillates to release water.\\n\\nIn another embodiment, depicted in exploded view117, a microphone108may receive the frequency for which it is to be activated, and an actuator110is activated and opens the spring-loaded valve112for that head106so that water can be dispensed at a location of interest. When the frequency ceases, the valve112is closed by the actuator110. The rover12may generate the frequencies using a horn or speaker26(FIG. 1) needed to actuate the heads106as well. In this way, localized sprinkler actuation may be achieved. The actuators110and microphones108in this embodiment may employ a power source, e.g., electrical leads coupled to an AC or DC source (not shown). Other dispensing methods may also be employed to provide area controlled or individually controlled heads106.\\n\\nIn one embodiment, the shut-off frequency of the heads106is different from the turn-on frequency. In this way, data from the rover12can be employed to actuate a dispenser which feeds the system100and rover measurements close to the sprinkler location can determine the length of irrigation. The rover12can provide a turn-off frequency to shut down the heads106of the system100when enough water has been dispensed. Determining the time when to start the sprinklers and when to shut them off is based on local measurements within the vineyard. For example, the determination of the amount of water is decided based on images, environmental conditions, measurements, etc. from the rover12, e.g., controlling the rate of water dispensing such that water covers all buds in an image, etc.\\n\\nIn one embodiment, the rover12moves along fruit tree lines and measures temperature, relative humidity, etc. while imaging buds and water flow across them. The measurements may be taken at the base level, intermediary level and tree top level of the trees. Different settings for the irrigation system may be employed based on the elevation. For example, water may be needed at the tops of the trees but not at the bottom in frost conditions. The irrigation system can be used for irrigation or used to prevent frost damage. The system10(computing system18or16) controls the sprinkle nozzles to minimize frost damage. Each sprinkler/nozzle may have its own resonance frequency (or other control) and at ends of the pipe120, two speakers102,104can generate an acoustic wave in the pipe108. Two standing waves114and116can be created at different frequencies that can be superposed to form a third wave109such that each sprinkler/dripper can be excited at its own frequency and at its location by adjusting frequency and/or amplitude of each generated wave. Additional frequencies may also be generated to actuate a larger number of sprinklers of sprinkler groups.\\n\\nSystems16or18can receive input from the rover12about which spatial area needs to be irrigated more or less, and the central server16can actuate irrigation in a well-defined segment of the irrigation line.\\n\\nReferring toFIG. 3, a method for dispensing water for crops is shown in accordance with illustrative embodiments. In block202, a field is traversed by a self-propelled rover. The rover includes a tower coupled to a base and extends over the base. A plurality of sensors is set on the tower and the base to sense environmental conditions around the rover at different elevations and at different locations in the field. The rover collects hyper-local information in the field to ensure that the plants/vines are protected from frost and/or properly waters, depending on the season and conditions.\\n\\nThe rover can be relocated to the different locations in the field in accordance with computer control (navigation system, etc.) to map the environmental conditions for the different elevations and at the different locations in the field. The rover may also be equipped with a preprogrammed route that is followed through the field.\\n\\nIn block204, the environmental conditions are measured using the plurality of sensors on the rover at the different elevations and at the different locations in the field. These measurements can include humidity, temperature, sun angle, dew point, solar radiation strength, wind velocity and direction, etc.\\n\\nIn block206, local measurement data is evaluated to determine an amount and manner for disbursement of water under the environmental conditions for the different elevations and at the different locations in the field. The amount may be determined based upon current frost conditions, e.g., too much water will weigh down branches, etc., but a sufficient amount is needed to balance trapping energy versus loss due to evaporation. The icing of plant life versus bowing under the weight of ice can be visually evaluated by the cognitive computing platform using visual feedback from the imaging device(s).\\n\\nIn one embodiment, evaluation of the local measurement data includes employing the cognitive computing platform to determine a water delivery rate and a disbursement type to protect plant life from frost damage or irrigate the plant life. For example, a type determined may be made to use overhead sprinklers to generate snow rather than applying liquid water to the plants or misting versing sprinkling, etc. Another manner/type may include the rate and amount at which the water in delivered. This may be determined by the cognitive computing platform based on many present conditions/other data as well and past or forecasted conditions. Other data may include one or more of historic weather data, seasonal data, forecasted weather, etc. The water may be dispensed in one single time block if the temperature is close to the freezing point or it can be a dispensed in small bursts to assure no freezing occurs.\\n\\nIn block208, the water is delivered until goal conditions are met. Goal conditions may include an amount of saturation, an ice coating that doesn't stress the branches of plants, etc. The water delivery may include activating a sprinkler system locally and monitoring the water on the plant life using at least one of an imaging system and/or a ground probe. The delivering of the water may include using individually controlled sprinkler sections or individually controlled heads. In one embodiment, the heads are acoustically activated sprinkler heads disposed locally throughout the field.\\n\\nThis process may be iterated to maintain conditions in a field or to further monitor the conditions for changes. The rover may also be employed for other purposes. For example, scaring off animals that might damage the crops, etc.\\n\\nHaving described preferred embodiments autonomous mobile platform and variable rate irrigation method for preventing frost damage (which are intended to be illustrative and not limiting), it is noted that modifications and variations can be made by persons skilled in the art in light of the above teachings. It is therefore to be understood that changes may be made in the particular embodiments disclosed which are within the scope of the invention as outlined by the appended claims. Having thus described aspects of the invention, with the details and particularity required by the patent laws, what is claimed and desired protected by Letters Patent is set forth in the appended claims.\\n\\n\""
      ]
     },
     "execution_count": 39,
     "metadata": {},
     "output_type": "execute_result"
    }
   ],
   "source": [
    "df.loc[6532]['text']"
   ]
  },
  {
   "cell_type": "code",
   "execution_count": null,
   "metadata": {},
   "outputs": [],
   "source": [
    "with open('tester_everything.txt') as f:\n",
    "    "
   ]
  }
 ],
 "metadata": {
  "interpreter": {
   "hash": "d423be8e5dd5e2441a242ca4cbbadda2df0f98772995e93bb940e45ce53c6d2c"
  },
  "kernelspec": {
   "display_name": "Python 3.7.11 ('data_manager')",
   "language": "python",
   "name": "python3"
  },
  "language_info": {
   "codemirror_mode": {
    "name": "ipython",
    "version": 3
   },
   "file_extension": ".py",
   "mimetype": "text/x-python",
   "name": "python",
   "nbconvert_exporter": "python",
   "pygments_lexer": "ipython3",
   "version": "3.7.11"
  },
  "orig_nbformat": 4
 },
 "nbformat": 4,
 "nbformat_minor": 2
}

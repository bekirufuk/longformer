{
 "cells": [
  {
   "cell_type": "code",
   "execution_count": 20,
   "metadata": {},
   "outputs": [],
   "source": [
    "import pandas as pd\n",
    "import config\n",
    "import os\n",
    "import csv\n",
    "import sys\n",
    "from datasets import load_dataset, load_from_disk\n",
    "from transformers import LongformerTokenizerFast\n",
    "from tqdm.auto import tqdm\n",
    "import seaborn as sns\n",
    "sns.set(style='darkgrid')"
   ]
  },
  {
   "cell_type": "code",
   "execution_count": 15,
   "metadata": {},
   "outputs": [],
   "source": [
    "data_files = os.path.join('../data/patentsview', 'patents_2019.csv')"
   ]
  },
  {
   "cell_type": "code",
   "execution_count": 17,
   "metadata": {},
   "outputs": [
    {
     "name": "stderr",
     "output_type": "stream",
     "text": [
      "Using custom data configuration default-d54856ff809a378b\n"
     ]
    },
    {
     "name": "stdout",
     "output_type": "stream",
     "text": [
      "Downloading and preparing dataset csv/default to ../data/patentsview/cache/csv/default-d54856ff809a378b/0.0.0/433e0ccc46f9880962cc2b12065189766fbb2bee57a221866138fb9203c83519...\n"
     ]
    },
    {
     "name": "stderr",
     "output_type": "stream",
     "text": [
      "100%|██████████| 1/1 [00:00<00:00, 2822.55it/s]\n",
      "100%|██████████| 1/1 [00:00<00:00, 417.47it/s]\n"
     ]
    },
    {
     "name": "stdout",
     "output_type": "stream",
     "text": [
      "Dataset csv downloaded and prepared to ../data/patentsview/cache/csv/default-d54856ff809a378b/0.0.0/433e0ccc46f9880962cc2b12065189766fbb2bee57a221866138fb9203c83519. Subsequent calls will reuse this data.\n"
     ]
    },
    {
     "name": "stderr",
     "output_type": "stream",
     "text": [
      "100%|██████████| 1/1 [00:00<00:00,  8.70it/s]\n"
     ]
    }
   ],
   "source": [
    "dataset = load_dataset('csv', data_files=data_files, cache_dir=os.path.join('../data/patentsview', 'cache'))"
   ]
  },
  {
   "cell_type": "code",
   "execution_count": 24,
   "metadata": {},
   "outputs": [],
   "source": [
    "def batch_tokenizer(batch):\n",
    "    return tokenizer(batch[\"text\"], padding='do_not_pad', truncation=False)"
   ]
  },
  {
   "cell_type": "code",
   "execution_count": 25,
   "metadata": {},
   "outputs": [
    {
     "name": "stderr",
     "output_type": "stream",
     "text": [
      "  0%|          | 0/310 [00:00<?, ?ba/s]Token indices sequence length is longer than the specified maximum sequence length for this model (8170 > 4096). Running this sequence through the model will result in indexing errors\n",
      "100%|██████████| 310/310 [1:30:59<00:00, 17.61s/ba]\n"
     ]
    }
   ],
   "source": [
    "tokenizer = LongformerTokenizerFast.from_pretrained('allenai/longformer-base-4096')\n",
    "tokenized_data = dataset.map(batch_tokenizer, batched=True, remove_columns=['text'])"
   ]
  },
  {
   "cell_type": "code",
   "execution_count": 26,
   "metadata": {},
   "outputs": [],
   "source": [
    "tokenized_data.save_to_disk(os.path.join('../data/patentsview', \"tokenized/nopad_notrim_patents_2019_tokenized\"))"
   ]
  },
  {
   "cell_type": "code",
   "execution_count": 3,
   "metadata": {},
   "outputs": [],
   "source": [
    "tokenized_data = load_from_disk(os.path.join('../data/patentsview', \"tokenized/nopad_notrim_patents_2019_tokenized\"))"
   ]
  },
  {
   "cell_type": "code",
   "execution_count": 14,
   "metadata": {},
   "outputs": [
    {
     "name": "stderr",
     "output_type": "stream",
     "text": [
      "  1%|          | 2598/310000 [00:53<1:45:25, 48.59it/s]\n"
     ]
    }
   ],
   "source": [
    "progress_bar = tqdm(range(len(tokenized_data['train'])))"
   ]
  },
  {
   "cell_type": "code",
   "execution_count": 15,
   "metadata": {},
   "outputs": [
    {
     "name": "stderr",
     "output_type": "stream",
     "text": [
      "100%|█████████▉| 309998/310000 [1:45:43<00:00, 31.42it/s]  "
     ]
    },
    {
     "data": {
      "text/html": [
       "<div>\n",
       "<style scoped>\n",
       "    .dataframe tbody tr th:only-of-type {\n",
       "        vertical-align: middle;\n",
       "    }\n",
       "\n",
       "    .dataframe tbody tr th {\n",
       "        vertical-align: top;\n",
       "    }\n",
       "\n",
       "    .dataframe thead th {\n",
       "        text-align: right;\n",
       "    }\n",
       "</style>\n",
       "<table border=\"1\" class=\"dataframe\">\n",
       "  <thead>\n",
       "    <tr style=\"text-align: right;\">\n",
       "      <th></th>\n",
       "      <th>num_tokens</th>\n",
       "      <th>label</th>\n",
       "    </tr>\n",
       "  </thead>\n",
       "  <tbody>\n",
       "    <tr>\n",
       "      <th>0</th>\n",
       "      <td>579</td>\n",
       "      <td>A</td>\n",
       "    </tr>\n",
       "    <tr>\n",
       "      <th>1</th>\n",
       "      <td>8170</td>\n",
       "      <td>G</td>\n",
       "    </tr>\n",
       "    <tr>\n",
       "      <th>2</th>\n",
       "      <td>2184</td>\n",
       "      <td>A</td>\n",
       "    </tr>\n",
       "    <tr>\n",
       "      <th>3</th>\n",
       "      <td>3068</td>\n",
       "      <td>A</td>\n",
       "    </tr>\n",
       "    <tr>\n",
       "      <th>4</th>\n",
       "      <td>14379</td>\n",
       "      <td>A</td>\n",
       "    </tr>\n",
       "    <tr>\n",
       "      <th>...</th>\n",
       "      <td>...</td>\n",
       "      <td>...</td>\n",
       "    </tr>\n",
       "    <tr>\n",
       "      <th>309995</th>\n",
       "      <td>18198</td>\n",
       "      <td>A</td>\n",
       "    </tr>\n",
       "    <tr>\n",
       "      <th>309996</th>\n",
       "      <td>3069</td>\n",
       "      <td>G</td>\n",
       "    </tr>\n",
       "    <tr>\n",
       "      <th>309997</th>\n",
       "      <td>7044</td>\n",
       "      <td>G</td>\n",
       "    </tr>\n",
       "    <tr>\n",
       "      <th>309998</th>\n",
       "      <td>31109</td>\n",
       "      <td>G</td>\n",
       "    </tr>\n",
       "    <tr>\n",
       "      <th>309999</th>\n",
       "      <td>7998</td>\n",
       "      <td>A</td>\n",
       "    </tr>\n",
       "  </tbody>\n",
       "</table>\n",
       "<p>310000 rows × 2 columns</p>\n",
       "</div>"
      ],
      "text/plain": [
       "        num_tokens label\n",
       "0              579     A\n",
       "1             8170     G\n",
       "2             2184     A\n",
       "3             3068     A\n",
       "4            14379     A\n",
       "...            ...   ...\n",
       "309995       18198     A\n",
       "309996        3069     G\n",
       "309997        7044     G\n",
       "309998       31109     G\n",
       "309999        7998     A\n",
       "\n",
       "[310000 rows x 2 columns]"
      ]
     },
     "execution_count": 15,
     "metadata": {},
     "output_type": "execute_result"
    }
   ],
   "source": [
    "df = pd.DataFrame(columns=['num_tokens','label'])\n",
    "for i, patent in enumerate(tokenized_data['train']):\n",
    "    df.loc[i] = [len(patent['input_ids']), config.id2label[patent['label']]]\n",
    "    progress_bar.update(1)\n",
    "\n",
    "df.to_csv(\"../data/patentsview/meta/patents_2019_num_tokens_and_label.csv\", index=False)\n",
    "ddf= pd.read_csv(\"../data/patentsview/meta/patents_2019_num_tokens_and_label.csv\")\n",
    "ddf"
   ]
  },
  {
   "cell_type": "code",
   "execution_count": 46,
   "metadata": {},
   "outputs": [
    {
     "name": "stdout",
     "output_type": "stream",
     "text": [
      "          num_tokens\n",
      "count  310000.000000\n",
      "mean    11487.254961\n",
      "std     17196.713500\n",
      "min        34.000000\n",
      "25%      4425.750000\n",
      "50%      7654.000000\n",
      "75%     12911.000000\n",
      "max    886819.000000\n"
     ]
    }
   ],
   "source": [
    "print(ddf.describe())"
   ]
  },
  {
   "cell_type": "code",
   "execution_count": 17,
   "metadata": {},
   "outputs": [
    {
     "name": "stdout",
     "output_type": "stream",
     "text": [
      "<class 'pandas.core.frame.DataFrame'>\n",
      "RangeIndex: 310000 entries, 0 to 309999\n",
      "Data columns (total 2 columns):\n",
      " #   Column      Non-Null Count   Dtype \n",
      "---  ------      --------------   ----- \n",
      " 0   num_tokens  310000 non-null  int64 \n",
      " 1   label       310000 non-null  object\n",
      "dtypes: int64(1), object(1)\n",
      "memory usage: 4.7+ MB\n"
     ]
    },
    {
     "name": "stderr",
     "output_type": "stream",
     "text": [
      "100%|██████████| 310000/310000 [1:45:57<00:00, 31.42it/s]"
     ]
    }
   ],
   "source": [
    "ddf.info(verbose=True)"
   ]
  },
  {
   "cell_type": "code",
   "execution_count": 30,
   "metadata": {},
   "outputs": [
    {
     "data": {
      "text/plain": [
       "<seaborn.axisgrid.FacetGrid at 0x7fc99cce7290>"
      ]
     },
     "execution_count": 30,
     "metadata": {},
     "output_type": "execute_result"
    },
    {
     "data": {
      "image/png": "[encoded data removed]",
      "text/plain": [
       "<Figure size 360x360 with 1 Axes>"
      ]
     },
     "metadata": {},
     "output_type": "display_data"
    }
   ],
   "source": [
    "# Label count distribution\n",
    "sns.catplot(data=ddf, x=\"label\", kind=\"count\", order=config.labels_list)"
   ]
  },
  {
   "cell_type": "code",
   "execution_count": 28,
   "metadata": {},
   "outputs": [
    {
     "name": "stdout",
     "output_type": "stream",
     "text": [
      "Mean token length of label A is 14558\n",
      "Mean token length of label B is 7624\n",
      "Mean token length of label C is 23219\n",
      "Mean token length of label D is 8826\n",
      "Mean token length of label E is 6627\n",
      "Mean token length of label F is 6509\n",
      "Mean token length of label G is 11318\n",
      "Mean token length of label H is 10806\n"
     ]
    }
   ],
   "source": [
    "# Mean token length of labels\n",
    "for label in config.labels_list:\n",
    "    mean = round(ddf[ddf['label']== label]['num_tokens'].mean()) \n",
    "    print(\"Mean token length of label {} is {}\".format(label, mean))"
   ]
  },
  {
   "cell_type": "code",
   "execution_count": 45,
   "metadata": {},
   "outputs": [
    {
     "name": "stdout",
     "output_type": "stream",
     "text": [
      "Label: A\n",
      "          num_tokens\n",
      "count   40380.000000\n",
      "mean    14557.523081\n",
      "std     24551.538353\n",
      "min        34.000000\n",
      "25%      4076.000000\n",
      "50%      7913.500000\n",
      "75%     15852.750000\n",
      "max    880936.000000\n",
      "-----------------------------------\n",
      "Label: B\n",
      "          num_tokens\n",
      "count   36610.000000\n",
      "mean     7623.975389\n",
      "std      8563.672966\n",
      "min        54.000000\n",
      "25%      3035.250000\n",
      "50%      5369.500000\n",
      "75%      9251.750000\n",
      "max    320991.000000\n",
      "-----------------------------------\n",
      "Label: C\n",
      "          num_tokens\n",
      "count   21195.000000\n",
      "mean    23218.574617\n",
      "std     39272.973034\n",
      "min        34.000000\n",
      "25%      5864.000000\n",
      "50%     11758.000000\n",
      "75%     24312.500000\n",
      "max    886819.000000\n",
      "-----------------------------------\n",
      "Label: D\n",
      "          num_tokens\n",
      "count    1406.000000\n",
      "mean     8826.067568\n",
      "std     11321.460105\n",
      "min       246.000000\n",
      "25%      3369.000000\n",
      "50%      5893.000000\n",
      "75%     10347.250000\n",
      "max    148121.000000\n",
      "-----------------------------------\n",
      "Label: E\n",
      "          num_tokens\n",
      "count    7286.000000\n",
      "mean     6626.710541\n",
      "std      6087.702585\n",
      "min       109.000000\n",
      "25%      2880.000000\n",
      "50%      4898.000000\n",
      "75%      8379.250000\n",
      "max    103640.000000\n",
      "-----------------------------------\n",
      "Label: F\n",
      "          num_tokens\n",
      "count   23301.000000\n",
      "mean     6509.035535\n",
      "std      7418.024500\n",
      "min        45.000000\n",
      "25%      2747.000000\n",
      "50%      4592.000000\n",
      "75%      7839.000000\n",
      "max    333356.000000\n",
      "-----------------------------------\n",
      "Label: G\n",
      "          num_tokens\n",
      "count   90846.000000\n",
      "mean    11317.502444\n",
      "std     11757.735293\n",
      "min        41.000000\n",
      "25%      5504.000000\n",
      "50%      8598.000000\n",
      "75%     13414.000000\n",
      "max    580883.000000\n",
      "-----------------------------------\n",
      "Label: H\n",
      "          num_tokens\n",
      "count   88976.000000\n",
      "mean    10806.018477\n",
      "std     12098.382178\n",
      "min        51.000000\n",
      "25%      5038.000000\n",
      "50%      8092.000000\n",
      "75%     12872.250000\n",
      "max    757209.000000\n",
      "-----------------------------------\n"
     ]
    }
   ],
   "source": [
    "for label in config.labels_list:\n",
    "    print(\"Label: {}\".format(label))\n",
    "    print(ddf[ddf['label']== label].describe())\n",
    "    print(\"-----------------------------------\")"
   ]
  },
  {
   "cell_type": "code",
   "execution_count": null,
   "metadata": {},
   "outputs": [],
   "source": []
  }
 ],
 "metadata": {
  "interpreter": {
   "hash": "d423be8e5dd5e2441a242ca4cbbadda2df0f98772995e93bb940e45ce53c6d2c"
  },
  "kernelspec": {
   "display_name": "Python 3.7.11 ('data_manager')",
   "language": "python",
   "name": "python3"
  },
  "language_info": {
   "codemirror_mode": {
    "name": "ipython",
    "version": 3
   },
   "file_extension": ".py",
   "mimetype": "text/x-python",
   "name": "python",
   "nbconvert_exporter": "python",
   "pygments_lexer": "ipython3",
   "version": "3.7.11"
  },
  "orig_nbformat": 4
 },
 "nbformat": 4,
 "nbformat_minor": 2
}
